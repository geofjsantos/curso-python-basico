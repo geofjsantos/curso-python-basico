{
 "cells": [
  {
   "cell_type": "markdown",
   "metadata": {},
   "source": [
    "# **TUDO É OBJETO EM PYTHON e todo objeto no Python tem um tipo.**\n",
    "\n",
    "## Tipos Numéricos\n",
    "\n",
    "- int (inteiro; a descrição é a mesma que utilizada na matemática, um número sem casa decimal) Ex.: 10 e -3\n",
    "- float (float; Um número que tem uma parte decimal) Ex.: 7.41 e -0.006\n",
    "- complex (similar ao número decimal, mas adicionado da letra \"j\", como representante da raiz quadrada de -1)\n",
    "- bool (boolean; Um variável lógica que tem os valores um valor binário que é verdadeiro ou falso) Ex.: True e False"
   ]
  },
  {
   "cell_type": "code",
   "execution_count": null,
   "metadata": {},
   "outputs": [],
   "source": [
    "# Vamos verificar os principais tipos numéricos.\n",
    "# A função type retorna o tipo do dado, coloque os valores dentro dos parenteses para retornar o tipo do dado\n",
    "type(10)"
   ]
  },
  {
   "cell_type": "markdown",
   "metadata": {},
   "source": [
    "## Tipos de Texto\n",
    "\n",
    "O tipo **_string_** corresponde a uma representação literal de uma cadeia de caracteres. Geralmente é representado por valores entre aspas simples ou duplas.\n",
    "\n",
    "No Python2, o tipo **_string_** suporta apenas caracteres ASCII, nada de símbolos ou caracteres acentuados. Para suporte a formatos unicode (caracteres especiais e acentuados), é utilizado o tipo **_unicode_**.\n",
    "\n",
    "No Python3, tudo é **_string_**"
   ]
  },
  {
   "cell_type": "code",
   "execution_count": null,
   "metadata": {},
   "outputs": [],
   "source": [
    "type(\"Teste\")"
   ]
  },
  {
   "cell_type": "markdown",
   "metadata": {},
   "source": [
    "## Tipo None\n",
    "\n",
    "NoneType (um tipo especial que representa a ausência de um valor) Ex.: None"
   ]
  },
  {
   "cell_type": "code",
   "execution_count": null,
   "metadata": {},
   "outputs": [],
   "source": [
    "type(None)"
   ]
  },
  {
   "cell_type": "markdown",
   "metadata": {},
   "source": [
    "# Variáveis"
   ]
  },
  {
   "cell_type": "markdown",
   "metadata": {},
   "source": [
    "Uma **_variável_** é um nome que você especifica no seu código que mapeia para um objeto, instância ou valor específico. Ele representa um espaço na memória do dispositivo onde os dados serão armazenados.\n",
    "\n",
    "Ao definir variáveis, podemos nos referir às coisas por nomes que fazem sentido para nós. Os nomes de variáveis podem conter apenas letras, sublinhados (_) ou números (sem espaços, traços ou outros caracteres). Os nomes de variáveis devem começar com uma letra ou sublinhado."
   ]
  },
  {
   "cell_type": "code",
   "execution_count": null,
   "metadata": {},
   "outputs": [],
   "source": [
    "nome = \"Carlos Eduardo Mota\"\n",
    "email = \"carlos.mota@cprm.gov.br\"\n",
    "idade = 22\n",
    "altura = 1.68"
   ]
  },
  {
   "cell_type": "markdown",
   "metadata": {},
   "source": [
    "### Para imprimir uma variável no console, utiliza-se a função *print*"
   ]
  },
  {
   "cell_type": "code",
   "execution_count": null,
   "metadata": {},
   "outputs": [],
   "source": [
    "print(nome)"
   ]
  },
  {
   "cell_type": "markdown",
   "metadata": {},
   "source": [
    "### Variáveis podem ser reatribuídas"
   ]
  },
  {
   "cell_type": "code",
   "execution_count": null,
   "metadata": {},
   "outputs": [],
   "source": [
    "nome = \"Carlos Eduardo Miranda Mota\"\n",
    "print(nome)"
   ]
  },
  {
   "cell_type": "markdown",
   "metadata": {},
   "source": [
    "### Para apagar uma variável, usa-se a palavra reservada *del*"
   ]
  },
  {
   "cell_type": "code",
   "execution_count": null,
   "metadata": {
    "scrolled": true
   },
   "outputs": [],
   "source": [
    "del nome\n",
    "print(nome)"
   ]
  },
  {
   "cell_type": "markdown",
   "metadata": {},
   "source": [
    "## Palavras Reservadas\n",
    "\n",
    "Nem todas as palavras podem ser utilizadas para alocar dados em memória. Estas palavras são correspondentes a instruções definidas na linguagem"
   ]
  },
  {
   "cell_type": "code",
   "execution_count": null,
   "metadata": {
    "scrolled": false
   },
   "outputs": [],
   "source": [
    "break = 10"
   ]
  },
  {
   "cell_type": "markdown",
   "metadata": {},
   "source": [
    "# Operadores Matemáticos\n",
    "\n",
    "- **Soma:** valor1 + valor2\n",
    "- **Subtração:** valor1 - valor2\n",
    "- **Multiplicação:** valor1 * valor2\n",
    "- **Potência:** valor1 ** valor2\n",
    "- **Divisão:** valor1 / valor2 \n",
    "- **Divisão inteira:** valor1 // valor2\n",
    "- **Módulo da divisão:** valor1 % valor2\n",
    "\n",
    "**Observação:** Só existe uma forma de divisão no Python2: Deve forçar o tipo de dado menos restritivo, p. ex. Para dividir numeros inteiros, cujo resultado nao é inteiro, é necessário converter para float antes de dividir."
   ]
  },
  {
   "cell_type": "code",
   "execution_count": null,
   "metadata": {},
   "outputs": [],
   "source": []
  },
  {
   "cell_type": "markdown",
   "metadata": {},
   "source": [
    "# Operador de precedência\n",
    "- **Parênteses:** valor1 + ((valor2 - valor3) * valor3)"
   ]
  },
  {
   "cell_type": "code",
   "execution_count": null,
   "metadata": {},
   "outputs": [],
   "source": []
  },
  {
   "cell_type": "markdown",
   "metadata": {},
   "source": [
    "# Operadores de Comparação\n",
    "\n",
    "Os valores retornados das operações são sempre do tipo Booleano\n",
    "\n",
    "- **Igual:** valor1 == valor2\n",
    "- **Diferente:** valor1 != valor2\n",
    "- **Menor que:** valor1 < valor2\n",
    "- **Maior que:** valor1 > valor2\n",
    "- **Menor ou igual a:** valor1 <= valor2 \n",
    "- **Maior ou igual a:** valor1 >= valor2"
   ]
  },
  {
   "cell_type": "code",
   "execution_count": null,
   "metadata": {},
   "outputs": [],
   "source": []
  },
  {
   "cell_type": "markdown",
   "metadata": {},
   "source": [
    "## *Exercício:* Implementar a fórmula de NDVI: \n",
    "- Armazenar os valores de IR e NIR em variáveis \n",
    "- Guardar o resultado da fórmula em outra variável. \n",
    "- Verificar se o resultado é maior ou menor que zero\n",
    "\n",
    "Referência: http://www.engesat.com.br/softwares/global-mapper/calculo-do-indice-de-vegetacao-ndvi-no-global-mapper/"
   ]
  },
  {
   "cell_type": "code",
   "execution_count": null,
   "metadata": {},
   "outputs": [],
   "source": []
  },
  {
   "cell_type": "markdown",
   "metadata": {},
   "source": [
    "# Operadores de Texto\n",
    "\n",
    "- **Concatenação:** valor1 + valor2\n",
    "- **Multiplicação:** valor1 * valor2"
   ]
  },
  {
   "cell_type": "code",
   "execution_count": null,
   "metadata": {},
   "outputs": [],
   "source": []
  },
  {
   "cell_type": "markdown",
   "metadata": {},
   "source": [
    "## *Exercício:* Formatar um nome de amostra, no padrão da CPRM\n",
    "\n",
    "- Criar variáveis para centro de custo, sigla do coletor, classe da amostra e número da estação\n",
    "- Colocar o resultado da concatenação em uma variável\n",
    "- Imprimir o resultado"
   ]
  },
  {
   "cell_type": "code",
   "execution_count": null,
   "metadata": {},
   "outputs": [],
   "source": []
  },
  {
   "cell_type": "markdown",
   "metadata": {},
   "source": [
    "# Operadores lógicos\n",
    "\n",
    "![alt text](https://cdn.askpython.com/wp-content/uploads/2019/12/python-logical-operators-flowchart-1024x297.png \"Logical Operators\")\n",
    "\n",
    "\n",
    "- **E lógico:** valor1 and valor2\n",
    "- **Ou lógico:** valor1 or valor2\n",
    "- **Não lógico:** not valor1"
   ]
  },
  {
   "cell_type": "code",
   "execution_count": null,
   "metadata": {},
   "outputs": [],
   "source": []
  }
 ],
 "metadata": {
  "kernelspec": {
   "display_name": "Python 3",
   "language": "python",
   "name": "python3"
  },
  "language_info": {
   "codemirror_mode": {
    "name": "ipython",
    "version": 3
   },
   "file_extension": ".py",
   "mimetype": "text/x-python",
   "name": "python",
   "nbconvert_exporter": "python",
   "pygments_lexer": "ipython3",
   "version": "3.7.7"
  }
 },
 "nbformat": 4,
 "nbformat_minor": 4
}
