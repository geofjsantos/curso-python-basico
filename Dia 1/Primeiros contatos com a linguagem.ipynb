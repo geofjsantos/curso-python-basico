{
 "cells": [
  {
   "cell_type": "markdown",
   "metadata": {},
   "source": [
    "# Curso Python Básico para Geocientistas\n",
    "\n",
    "## O que é Python\n",
    "\n",
    "[*Retirado do Wikipedia*](https://pt.wikipedia.org/wiki/Python)\n",
    "\n",
    "Python é uma linguagem de programação de alto nível, interpretada, de script, imperativa, orientada a objetos, funcional, de tipagem dinâmica e forte. Foi lançada por Guido van Rossum em 1991. Atualmente possui um modelo de desenvolvimento comunitário, aberto e gerenciado pela organização sem fins lucrativos pela Python Software Foundation. Apesar de várias partes da linguagem possuírem padrões e especificações formais, a linguagem como um todo não é formalmente especificada.\n",
    "\n",
    "A linguagem foi projetada com a filosofia de enfatizar a importância do esforço do programador sobre o esforço computacional. Prioriza a legibilidade do código sobre a velocidade ou expressividade. Combina uma sintaxe concisa e clara com os recursos poderosos de sua biblioteca padrão e por módulos e frameworks desenvolvidos por terceiros.\n",
    "\n",
    "Python é uma linguagem de propósito geral de alto nível, multiparadigma, suporta o paradigma orientado a objetos, imperativo, funcional e procedural. Possui tipagem dinâmica e uma de suas principais características é permitir a fácil leitura do código e exigir poucas linhas de código se comparado ao mesmo programa em outras linguagens. Devido às suas características, ela é principalmente utilizada para processamento de textos, dados científicos e criação de CGIs para páginas dinâmicas para a web. Foi considerada pelo público a 3ª linguagem \"mais amada\", de acordo com uma pesquisa conduzida pelo site Stack Overflow em 2018 e está entre as 5 linguagens mais populares, de acordo com uma pesquisa conduzida pela RedMonk.\n",
    "\n",
    "O nome Python teve a sua origem no grupo humorístico britânico Monty Python, criador do programa Monty Python's Flying Circus, embora muitas pessoas façam associação com o réptil do mesmo nome"
   ]
  },
  {
   "cell_type": "markdown",
   "metadata": {},
   "source": [
    "# Por que aprender a programar?\n",
    "\n",
    "- Desenvolvimento do raciocínio lógico\n",
    "- Estímulo a aprendizagem criativa\n",
    "- Desenvolvimento do pensamento computacional\n",
    "- Automatização de tarefas chatas e repetitivas\n",
    "- Desenvolvimento de processos personalizados\n",
    "\n",
    "# E por que Python?\n",
    "\n",
    "- Fácil de ler, escrever e compreender (Extremamente semântica)\n",
    "- Software Livre e de Código Aberto\n",
    "- Extensa documentação na web\n",
    "- Inúmeras extensões\n",
    "- Extenso suporte científico\n",
    "- Integravel em outros sistemas\n",
    "- Integrável em outras linguagens"
   ]
  },
  {
   "cell_type": "markdown",
   "metadata": {},
   "source": [
    "# Meu primeiro código em Python\n",
    "Vamos falar sobre o Zen do Python"
   ]
  },
  {
   "cell_type": "code",
   "execution_count": null,
   "metadata": {},
   "outputs": [],
   "source": []
  },
  {
   "cell_type": "markdown",
   "metadata": {},
   "source": [
    "# Um exemplo de programa em Python\n",
    "*Sequencia de Fibonacci até 50*"
   ]
  },
  {
   "cell_type": "code",
   "execution_count": null,
   "metadata": {
    "scrolled": true
   },
   "outputs": [],
   "source": [
    "anterior = 0   # Variável\n",
    "proximo = 0\n",
    "\n",
    "while(proximo < 50): # Estrutura de repetição\n",
    "    print(proximo)\n",
    "    \n",
    "    proximo = proximo + anterior  # Atribuir um resultado de uma operação a uma variável\n",
    "    anterior = proximo - anterior\n",
    "    \n",
    "    if(proximo == 0): # Estrutura de condição\n",
    "        proximo = proximo + 1"
   ]
  },
  {
   "cell_type": "markdown",
   "metadata": {},
   "source": [
    "# Sintaxe\n",
    "\n",
    "Python usa indentação como delimitação de bloco, portanto devemos indentar corretamente o código fonte.\n",
    "\n",
    "Devemos, ao menos conhecer o [PEP-8](https://www.python.org/dev/peps/pep-0008/)"
   ]
  },
  {
   "cell_type": "code",
   "execution_count": null,
   "metadata": {},
   "outputs": [],
   "source": [
    "# Este código está correto ou incorreto?\n",
    "def spam():\n",
    "eggs = 12\n",
    "return eggs\n",
    "\n",
    "print(spam())"
   ]
  },
  {
   "cell_type": "code",
   "execution_count": null,
   "metadata": {},
   "outputs": [],
   "source": [
    "# Este código está correto ou incorreto?\n",
    "def spam():\n",
    "    eggs = 12\n",
    "    return eggs\n",
    "\n",
    "print(spam())"
   ]
  },
  {
   "cell_type": "markdown",
   "metadata": {},
   "source": [
    "**Reparem que não há chaves ou ponto-e-vírgula**"
   ]
  },
  {
   "cell_type": "markdown",
   "metadata": {},
   "source": [
    "## Comentários\n",
    "\n",
    "Representação em linha."
   ]
  },
  {
   "cell_type": "code",
   "execution_count": null,
   "metadata": {},
   "outputs": [],
   "source": [
    "# comentário de linha\n",
    "\"\"\" Esse é em bloco mas está em uma linha só \"\"\""
   ]
  },
  {
   "cell_type": "markdown",
   "metadata": {},
   "source": [
    "Representação em bloco."
   ]
  },
  {
   "cell_type": "code",
   "execution_count": null,
   "metadata": {},
   "outputs": [],
   "source": [
    "\"\"\"\n",
    "comentários\n",
    "comentários\n",
    "comentários\n",
    "\"\"\""
   ]
  },
  {
   "cell_type": "code",
   "execution_count": null,
   "metadata": {},
   "outputs": [],
   "source": [
    "'''\n",
    "comentários\n",
    "comentários\n",
    "comentários\n",
    "'''"
   ]
  },
  {
   "cell_type": "markdown",
   "metadata": {},
   "source": [
    "# Python 2 x Python 3\n",
    "\n",
    "É importante saber que há duas versões principais disponíveis "
   ]
  }
 ],
 "metadata": {
  "kernelspec": {
   "display_name": "Python 3",
   "language": "python",
   "name": "python3"
  },
  "language_info": {
   "codemirror_mode": {
    "name": "ipython",
    "version": 3
   },
   "file_extension": ".py",
   "mimetype": "text/x-python",
   "name": "python",
   "nbconvert_exporter": "python",
   "pygments_lexer": "ipython3",
   "version": "3.7.7"
  }
 },
 "nbformat": 4,
 "nbformat_minor": 4
}
