{
 "cells": [
  {
   "cell_type": "markdown",
   "metadata": {},
   "source": [
    "# Adicionando funcionalidades no Python\n",
    "Formas distintas de importar um módulo python"
   ]
  },
  {
   "cell_type": "code",
   "execution_count": null,
   "metadata": {},
   "outputs": [],
   "source": [
    "# Importa todo o conteúdo do módulo, usando math como namespace\n",
    "import math\n",
    "\n",
    "math.ceil(math.pi)"
   ]
  },
  {
   "cell_type": "code",
   "execution_count": null,
   "metadata": {},
   "outputs": [],
   "source": [
    "# Importa todo o conteúdo do módulo, sem namespace\n",
    "from math import *\n",
    "\n",
    "ceil(pi)"
   ]
  },
  {
   "cell_type": "code",
   "execution_count": null,
   "metadata": {},
   "outputs": [],
   "source": [
    "# Importa um objeto contido dentro de um módulo\n",
    "from math import ceil, pi\n",
    "\n",
    "ceil(pi)"
   ]
  },
  {
   "cell_type": "code",
   "execution_count": null,
   "metadata": {
    "scrolled": true
   },
   "outputs": [],
   "source": [
    "# É possível apelidar os objetos do módulo, ou todo o módulo\n",
    "from math import ceil as arredonda_pra_cima, pi\n",
    "\n",
    "arredonda_pra_cima(pi)"
   ]
  },
  {
   "cell_type": "markdown",
   "metadata": {},
   "source": [
    "# Instalação de Módulos Externos (Windows)\n",
    "\n",
    "- Executáveis ou MSI\n",
    "- pip\n",
    "- easy_install\n",
    "- Anaconda/Conda"
   ]
  }
 ],
 "metadata": {
  "kernelspec": {
   "display_name": "Python 3",
   "language": "python",
   "name": "python3"
  },
  "language_info": {
   "codemirror_mode": {
    "name": "ipython",
    "version": 3
   },
   "file_extension": ".py",
   "mimetype": "text/x-python",
   "name": "python",
   "nbconvert_exporter": "python",
   "pygments_lexer": "ipython3",
   "version": "3.7.7"
  }
 },
 "nbformat": 4,
 "nbformat_minor": 4
}
