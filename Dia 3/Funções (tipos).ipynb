{
 "cells": [
  {
   "cell_type": "markdown",
   "metadata": {},
   "source": [
    "# Funções em Python (2)\n",
    "\n",
    "## Definição empírica de Função"
   ]
  },
  {
   "cell_type": "code",
   "execution_count": 5,
   "metadata": {},
   "outputs": [
    {
     "data": {
      "text/plain": [
       "3"
      ]
     },
     "execution_count": 5,
     "metadata": {},
     "output_type": "execute_result"
    }
   ],
   "source": [
    "# Identificador da função\n",
    "# Argumentos (0 até n argumentos)\n",
    "# Corpo da Função\n",
    "def somar(valor1, valor2):\n",
    "    \"\"\"\n",
    "    Realiza a soma de duas parcelas\n",
    "    \n",
    "    valor1: Valor numérico da primeira parcela\n",
    "    valor2: Valor numérico da segunda parcela\n",
    "    \n",
    "    returns: Soma das parcelas\n",
    "    \"\"\"\n",
    "    return valor1 + valor2\n",
    "\n",
    "somar(1, 2)"
   ]
  },
  {
   "cell_type": "code",
   "execution_count": 7,
   "metadata": {},
   "outputs": [
    {
     "data": {
      "text/plain": [
       "'\\n    Realiza a soma de duas parcelas\\n    \\n    valor1: Valor numérico da primeira parcela\\n    valor2: Valor numérico da segunda parcela\\n    \\n    returns: Soma das parcelas\\n    '"
      ]
     },
     "execution_count": 7,
     "metadata": {},
     "output_type": "execute_result"
    }
   ],
   "source": [
    "somar.__doc__"
   ]
  },
  {
   "cell_type": "markdown",
   "metadata": {},
   "source": [
    "## Uma função pode não ter argumentos"
   ]
  },
  {
   "cell_type": "code",
   "execution_count": 14,
   "metadata": {
    "scrolled": true
   },
   "outputs": [
    {
     "data": {
      "text/plain": [
       "(55, 90, 120)"
      ]
     },
     "execution_count": 14,
     "metadata": {},
     "output_type": "execute_result"
    }
   ],
   "source": [
    "# https://docs.python.org/3/library/random.html\n",
    "import random\n",
    "\n",
    "def gerar_cor_aleatoria():\n",
    "    r = random.randint(0, 255)\n",
    "    g = random.randint(0, 255)\n",
    "    b = random.randint(0, 255)\n",
    "    \n",
    "    return (r, g, b)\n",
    "\n",
    "gerar_cor_aleatoria()"
   ]
  },
  {
   "cell_type": "markdown",
   "metadata": {},
   "source": [
    "## Uma função pode não ter retorno (None)"
   ]
  },
  {
   "cell_type": "code",
   "execution_count": 15,
   "metadata": {
    "scrolled": true
   },
   "outputs": [
    {
     "name": "stderr",
     "output_type": "stream",
     "text": [
      "/opt/miniconda/lib/python3.7/site-packages/ipykernel_launcher.py:4: UserWarning: Estou tentando aprender funções\n",
      "  after removing the cwd from sys.path.\n"
     ]
    }
   ],
   "source": [
    "import warnings\n",
    "\n",
    "def emitir_alerta(mensagem):\n",
    "    warnings.warn(mensagem)\n",
    "    \n",
    "emitir_alerta(\"Estou tentando aprender funções\")"
   ]
  },
  {
   "cell_type": "markdown",
   "metadata": {},
   "source": [
    "## Função também é um tipo Python e pode ser armazenado em variável"
   ]
  },
  {
   "cell_type": "code",
   "execution_count": 16,
   "metadata": {},
   "outputs": [
    {
     "name": "stdout",
     "output_type": "stream",
     "text": [
      "<class 'function'>\n",
      "<class 'function'>\n"
     ]
    },
    {
     "name": "stderr",
     "output_type": "stream",
     "text": [
      "/opt/miniconda/lib/python3.7/site-packages/ipykernel_launcher.py:4: UserWarning: teste\n",
      "  after removing the cwd from sys.path.\n"
     ]
    }
   ],
   "source": [
    "al = emitir_alerta\n",
    "\n",
    "print(type(emitir_alerta))\n",
    "print(type(al))\n",
    "\n",
    "al('teste')"
   ]
  },
  {
   "cell_type": "markdown",
   "metadata": {},
   "source": [
    "# Exercícios\n",
    "Criar uma função para formatar o nome de uma amostras, baseado nas regras de nomenclatura da CPRM.\n",
    "\n",
    "CCCC-SS-0000\n",
    "\n",
    "onde: \n",
    "- CCCC é centro de custo, com 4 digitos\n",
    "- SS é a sigla do coletor\n",
    "- 0000 é o número do ponto\n",
    "\n",
    "dica. usar método str.zfill() para colocar os zeros à esquerda\n"
   ]
  },
  {
   "cell_type": "code",
   "execution_count": null,
   "metadata": {},
   "outputs": [],
   "source": []
  },
  {
   "cell_type": "markdown",
   "metadata": {},
   "source": [
    "## Passando argumentos padrão"
   ]
  },
  {
   "cell_type": "code",
   "execution_count": 26,
   "metadata": {},
   "outputs": [],
   "source": [
    "def somar(valor1, valor2=10):\n",
    "    \"\"\"\n",
    "    valor1: Obrigatório\n",
    "    valor2: Opcional\n",
    "    returns: Soma das parcelas\n",
    "    \"\"\"\n",
    "    return valor1 + valor2\n"
   ]
  },
  {
   "cell_type": "code",
   "execution_count": 18,
   "metadata": {},
   "outputs": [
    {
     "data": {
      "text/plain": [
       "12"
      ]
     },
     "execution_count": 18,
     "metadata": {},
     "output_type": "execute_result"
    }
   ],
   "source": [
    "somar(2)"
   ]
  },
  {
   "cell_type": "code",
   "execution_count": 19,
   "metadata": {
    "scrolled": false
   },
   "outputs": [
    {
     "data": {
      "text/plain": [
       "7"
      ]
     },
     "execution_count": 19,
     "metadata": {},
     "output_type": "execute_result"
    }
   ],
   "source": [
    "somar(5, 2)"
   ]
  },
  {
   "cell_type": "markdown",
   "metadata": {},
   "source": [
    "## Passando parâmetros por referência\n",
    "\n",
    "- Todos os argumentos obrigatórios são colocados primeiro"
   ]
  },
  {
   "cell_type": "code",
   "execution_count": 27,
   "metadata": {},
   "outputs": [],
   "source": [
    "def somar(valor1, valor2, valor3=0, valor4=5, valor5=10):\n",
    "    \"\"\"\n",
    "    returns: Soma das parcelas\n",
    "    \"\"\"\n",
    "    return valor1 + valor2 + valor3 + valor4 + valor5"
   ]
  },
  {
   "cell_type": "code",
   "execution_count": 29,
   "metadata": {},
   "outputs": [
    {
     "data": {
      "text/plain": [
       "59"
      ]
     },
     "execution_count": 29,
     "metadata": {},
     "output_type": "execute_result"
    }
   ],
   "source": [
    "somar(10, 21, 13)"
   ]
  },
  {
   "cell_type": "code",
   "execution_count": 31,
   "metadata": {},
   "outputs": [
    {
     "data": {
      "text/plain": [
       "71"
      ]
     },
     "execution_count": 31,
     "metadata": {},
     "output_type": "execute_result"
    }
   ],
   "source": [
    "# Na maioria das outras linguagens, seria feito assim\n",
    "# somar(10, 21, 0, 5, 35)\n",
    "\n",
    "# NO python\n",
    "somar(10, 21, valor5=35)\n",
    "\n",
    "somar(valor1=10, valor2=21, valor5=35)"
   ]
  },
  {
   "cell_type": "markdown",
   "metadata": {},
   "source": [
    "## Argumentos posicionais X Argumentos nomeados"
   ]
  },
  {
   "cell_type": "markdown",
   "metadata": {},
   "source": [
    "*args -> Argumentos posicionais\n",
    "\n",
    "**kwargs-> Argumentos nomeados"
   ]
  },
  {
   "cell_type": "code",
   "execution_count": 39,
   "metadata": {},
   "outputs": [],
   "source": [
    "def soma(*parcelas):\n",
    "    print(parcelas)\n",
    "    resultado = 0\n",
    "    \n",
    "    for parcela in parcelas:\n",
    "        resultado = resultado + parcela\n",
    "        \n",
    "    return resultado"
   ]
  },
  {
   "cell_type": "code",
   "execution_count": 40,
   "metadata": {},
   "outputs": [
    {
     "name": "stdout",
     "output_type": "stream",
     "text": [
      "(1, 6, 7, 10, 23)\n"
     ]
    },
    {
     "data": {
      "text/plain": [
       "47"
      ]
     },
     "execution_count": 40,
     "metadata": {},
     "output_type": "execute_result"
    }
   ],
   "source": [
    "soma(1, 6, 7, 10, 23)"
   ]
  },
  {
   "cell_type": "code",
   "execution_count": 43,
   "metadata": {
    "scrolled": true
   },
   "outputs": [
    {
     "name": "stdout",
     "output_type": "stream",
     "text": [
      "(10, 23, 65, 43, 18)\n"
     ]
    },
    {
     "data": {
      "text/plain": [
       "159"
      ]
     },
     "execution_count": 43,
     "metadata": {},
     "output_type": "execute_result"
    }
   ],
   "source": [
    "# Asterisco para desempacotar iteráveis em parâmetros\n",
    "lista1 = [10, 23, 65, 43, 18]\n",
    "\n",
    "soma(*lista1)"
   ]
  },
  {
   "cell_type": "markdown",
   "metadata": {},
   "source": [
    "### Argumentos nomeados"
   ]
  },
  {
   "cell_type": "code",
   "execution_count": 44,
   "metadata": {},
   "outputs": [
    {
     "name": "stdout",
     "output_type": "stream",
     "text": [
      "{'nome': 'Carlos', 'idade': 37}\n"
     ]
    }
   ],
   "source": [
    "def criar_pessoa(**caracteristicas):\n",
    "    print(caracteristicas)\n",
    "    \n",
    "    \n",
    "criar_pessoa(nome=\"Carlos\", idade=37)"
   ]
  },
  {
   "cell_type": "code",
   "execution_count": 45,
   "metadata": {},
   "outputs": [
    {
     "name": "stdout",
     "output_type": "stream",
     "text": [
      "('teste', 22)\n",
      "{'nome': 'Carlos', 'idade': 37}\n"
     ]
    }
   ],
   "source": [
    "# Argumentos posicionais obrigatórios primeiro, opcionais e nomeados depois\n",
    "def criar_pessoa(*argumentos, **caracteristicas):\n",
    "    print(argumentos)\n",
    "    print(caracteristicas)\n",
    "    \n",
    "    \n",
    "criar_pessoa(\"teste\", 22, nome=\"Carlos\", idade=37)"
   ]
  },
  {
   "cell_type": "markdown",
   "metadata": {},
   "source": [
    "# Funções anônimas"
   ]
  },
  {
   "cell_type": "code",
   "execution_count": null,
   "metadata": {},
   "outputs": [],
   "source": [
    "quadrado = lambda val: val ** 2\n",
    "\n",
    "print(type(quadrado))\n",
    "\n",
    "quadrado(3)"
   ]
  }
 ],
 "metadata": {
  "kernelspec": {
   "display_name": "Python 3",
   "language": "python",
   "name": "python3"
  },
  "language_info": {
   "codemirror_mode": {
    "name": "ipython",
    "version": 3
   },
   "file_extension": ".py",
   "mimetype": "text/x-python",
   "name": "python",
   "nbconvert_exporter": "python",
   "pygments_lexer": "ipython3",
   "version": "3.7.7"
  }
 },
 "nbformat": 4,
 "nbformat_minor": 4
}
