{
 "cells": [
  {
   "cell_type": "markdown",
   "metadata": {},
   "source": [
    "# Funções em Python (2)\n",
    "\n",
    "## Definição empírica de Função"
   ]
  },
  {
   "cell_type": "code",
   "execution_count": null,
   "metadata": {},
   "outputs": [],
   "source": [
    "# Identificador da função\n",
    "# Argumentos (0 até n argumentos)\n",
    "# Corpo da Função\n",
    "def somar(valor1, valor2):\n",
    "    \"\"\"\n",
    "    valor1: Valor numérico da primeira parcela\n",
    "    valor2: Valor numérico da segunda parcela\n",
    "    returns: Soma das parcelas\n",
    "    \"\"\"\n",
    "    return valor1 + valor2\n",
    "\n",
    "somar(1, 2)"
   ]
  },
  {
   "cell_type": "markdown",
   "metadata": {},
   "source": [
    "## Uma função pode não ter argumentos"
   ]
  },
  {
   "cell_type": "code",
   "execution_count": null,
   "metadata": {
    "scrolled": true
   },
   "outputs": [],
   "source": [
    "import random\n",
    "\n",
    "def gerar_cor_aleatoria():\n",
    "    r = random.randint(0, 255)\n",
    "    g = random.randint(0, 255)\n",
    "    b = random.randint(0, 255)\n",
    "    \n",
    "    return r, g, b\n",
    "\n",
    "gerar_cor_aleatoria()"
   ]
  },
  {
   "cell_type": "markdown",
   "metadata": {},
   "source": [
    "## Uma função pode não ter retorno (void)"
   ]
  },
  {
   "cell_type": "code",
   "execution_count": null,
   "metadata": {
    "scrolled": true
   },
   "outputs": [],
   "source": [
    "import warnings\n",
    "\n",
    "def emitir_alerta(mensagem):\n",
    "    warnings.warn(mensagem)\n",
    "    \n",
    "emitir_alerta(\"Estou tentando aprender funções\")"
   ]
  },
  {
   "cell_type": "markdown",
   "metadata": {},
   "source": [
    "## Função também é um tipo Python e pode ser armazenado em variável"
   ]
  },
  {
   "cell_type": "code",
   "execution_count": null,
   "metadata": {},
   "outputs": [],
   "source": [
    "al = emitir_alerta\n",
    "\n",
    "print(type(emitir_alerta))\n",
    "print(type(al))\n",
    "\n",
    "al('teste')"
   ]
  },
  {
   "cell_type": "markdown",
   "metadata": {},
   "source": [
    "# Exercícios\n",
    "Criar uma função para formatar o nome de uma amostras, baseado nas regras de nomenclatura da CPRM.\n",
    "\n",
    "CCCC-SS-0000\n",
    "\n",
    "onde: \n",
    "- CCCC é centro de custo, com 4 digitos\n",
    "- SS é a sigla do coletor\n",
    "- 0000 é o número do ponto\n",
    "\n",
    "dica. usar método str.zfill() para colocar os zeros à esquerda\n"
   ]
  },
  {
   "cell_type": "code",
   "execution_count": null,
   "metadata": {},
   "outputs": [],
   "source": []
  },
  {
   "cell_type": "markdown",
   "metadata": {},
   "source": [
    "## Passando argumentos padrão"
   ]
  },
  {
   "cell_type": "code",
   "execution_count": null,
   "metadata": {},
   "outputs": [],
   "source": [
    "def somar(valor1, valor2=10):\n",
    "    \"\"\"\n",
    "    valor1: Valor numérico da primeira parcela\n",
    "    valor2: Valor numérico da segunda parcela\n",
    "    returns: Soma das parcelas\n",
    "    \"\"\"\n",
    "    return valor1 + valor2\n"
   ]
  },
  {
   "cell_type": "code",
   "execution_count": null,
   "metadata": {},
   "outputs": [],
   "source": [
    "somar(2)"
   ]
  },
  {
   "cell_type": "code",
   "execution_count": null,
   "metadata": {
    "scrolled": true
   },
   "outputs": [],
   "source": [
    "somar(5, 2)"
   ]
  },
  {
   "cell_type": "markdown",
   "metadata": {},
   "source": [
    "## Argumentos posicionais X Argumentos nomeados"
   ]
  },
  {
   "cell_type": "markdown",
   "metadata": {},
   "source": [
    "*args -> Argumentos posicionais\n",
    "\n",
    "**kwargs-> Argumentos nomeados"
   ]
  },
  {
   "cell_type": "code",
   "execution_count": null,
   "metadata": {},
   "outputs": [],
   "source": []
  },
  {
   "cell_type": "markdown",
   "metadata": {},
   "source": [
    "# Funções anônimas"
   ]
  },
  {
   "cell_type": "code",
   "execution_count": null,
   "metadata": {},
   "outputs": [],
   "source": [
    "quadrado = lambda val: val ** 2\n",
    "\n",
    "print(type(quadrado))\n",
    "\n",
    "quadrado(3)"
   ]
  }
 ],
 "metadata": {
  "kernelspec": {
   "display_name": "Python 3",
   "language": "python",
   "name": "python3"
  },
  "language_info": {
   "codemirror_mode": {
    "name": "ipython",
    "version": 3
   },
   "file_extension": ".py",
   "mimetype": "text/x-python",
   "name": "python",
   "nbconvert_exporter": "python",
   "pygments_lexer": "ipython3",
   "version": "3.7.7"
  }
 },
 "nbformat": 4,
 "nbformat_minor": 4
}
