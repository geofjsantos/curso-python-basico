{
 "cells": [
  {
   "cell_type": "markdown",
   "metadata": {},
   "source": [
    "# Erros e exceções"
   ]
  },
  {
   "cell_type": "markdown",
   "metadata": {},
   "source": [
    "## Erros de operações aritméticas"
   ]
  },
  {
   "cell_type": "code",
   "execution_count": null,
   "metadata": {
    "scrolled": false
   },
   "outputs": [],
   "source": [
    "def dividir(dividendo, divisor):\n",
    "    return dividendo / divisor"
   ]
  },
  {
   "cell_type": "code",
   "execution_count": null,
   "metadata": {},
   "outputs": [],
   "source": [
    "dividir(10, 0)"
   ]
  },
  {
   "cell_type": "code",
   "execution_count": null,
   "metadata": {},
   "outputs": [],
   "source": [
    "formatos = [\"shp\", \"tif\", \"dxf\"]\n",
    "\n",
    "formatos[3]"
   ]
  },
  {
   "cell_type": "code",
   "execution_count": null,
   "metadata": {
    "scrolled": true
   },
   "outputs": [],
   "source": [
    "pessoa = {\"nome\": \"Carlos\", \"idade\": 37}\n",
    "\n",
    "print(\"O nome dele é \" + pessoa['nome'] + \" \" + pessoa['sobrenome'] + \\\n",
    "      \", e possui \" + pessoa['idade'] + \" anos\")"
   ]
  },
  {
   "cell_type": "code",
   "execution_count": null,
   "metadata": {},
   "outputs": [],
   "source": [
    "arquivo = open(\"teste\", \"r\")\n",
    "arquivo.read()"
   ]
  },
  {
   "cell_type": "markdown",
   "metadata": {},
   "source": [
    "# Manipulação de erros e exceções"
   ]
  },
  {
   "cell_type": "code",
   "execution_count": null,
   "metadata": {},
   "outputs": [],
   "source": [
    "try:\n",
    "    dividir(10, 0)\n",
    "\n",
    "except:\n",
    "    print(\"Operação inválida\")"
   ]
  },
  {
   "cell_type": "code",
   "execution_count": null,
   "metadata": {},
   "outputs": [],
   "source": [
    "try:\n",
    "    dividir(10, 0)\n",
    "\n",
    "except ZeroDivisionError:\n",
    "    print(\"Não é possível dividir por 0\")"
   ]
  },
  {
   "cell_type": "code",
   "execution_count": null,
   "metadata": {},
   "outputs": [],
   "source": [
    "try:\n",
    "    dividir(10, \"0\")\n",
    "    \n",
    "except TypeError:\n",
    "    print(\"Apenas números são aceitos\")\n",
    "\n",
    "except ZeroDivisionError:\n",
    "    print(\"Não é possível dividir por 0\")\n",
    "    \n",
    "except Exception as e:\n",
    "    print(\"Erro não especificado: {e}\")"
   ]
  },
  {
   "cell_type": "code",
   "execution_count": null,
   "metadata": {},
   "outputs": [],
   "source": [
    "try:\n",
    "    dividir(10, 1)\n",
    "    \n",
    "except TypeError:\n",
    "    print(\"Apenas números são aceitos\")\n",
    "\n",
    "except ZeroDivisionError:\n",
    "    print(\"Não é possível dividir por 0\")\n",
    "    \n",
    "except Exception as e:\n",
    "    print(\"Erro não especificado: {e}\")\n",
    "\n",
    "else:\n",
    "    print(\"Operção realizada com sucesso\")\n",
    "    \n",
    "finally:\n",
    "    print(\"Fim da operação\")"
   ]
  }
 ],
 "metadata": {
  "kernelspec": {
   "display_name": "Python 3",
   "language": "python",
   "name": "python3"
  },
  "language_info": {
   "codemirror_mode": {
    "name": "ipython",
    "version": 3
   },
   "file_extension": ".py",
   "mimetype": "text/x-python",
   "name": "python",
   "nbconvert_exporter": "python",
   "pygments_lexer": "ipython3",
   "version": "3.7.7"
  }
 },
 "nbformat": 4,
 "nbformat_minor": 4
}
