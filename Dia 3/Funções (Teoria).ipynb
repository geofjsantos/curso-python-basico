{
 "cells": [
  {
   "cell_type": "markdown",
   "metadata": {
    "colab_type": "text",
    "id": "CLZ4f5NalaRK"
   },
   "source": [
    "# Funções em Python\n",
    "Funções... esse nome lhe parece familiar?\n",
    "Ah, sim! Da matemática! Veja este exemplo:\n",
    "\n",
    "*f(x) = x2*\n",
    "\n",
    "Podemos dizer que f é uma função que recebe um número e devolve o quadrado\n",
    "dele. Exemplos: \n",
    "*f(1) = 1, f(2) = 4, f(3) = 9.*\n",
    "\n",
    "Na programação, podemos usar funções para agrupar um conjunto de instruções e realizar tarefas específicas, evitando ter que reescrever as instruções toda vez que se quiser realizar tal tarefa.\n",
    "\n"
   ]
  },
  {
   "cell_type": "code",
   "execution_count": 3,
   "metadata": {
    "colab": {},
    "colab_type": "code",
    "id": "wVouW9V7udwH",
    "scrolled": true
   },
   "outputs": [
    {
     "name": "stdout",
     "output_type": "stream",
     "text": [
      "49\n"
     ]
    }
   ],
   "source": [
    "# Definição da funcão\n",
    "def calcular_quadrado(x):   # Nome (argumentos)\n",
    "    quadrado = x ** 2              # Corpo da função\n",
    "    \n",
    "    return quadrado                # Retorno da função (função sem retorno -> None)\n",
    "\n",
    "\n",
    "# Execução da função\n",
    "val = calcular_quadrado(7) \n",
    "print(val)"
   ]
  },
  {
   "cell_type": "code",
   "execution_count": 7,
   "metadata": {},
   "outputs": [
    {
     "name": "stdout",
     "output_type": "stream",
     "text": [
      "1.4142135623730951\n"
     ]
    }
   ],
   "source": [
    "# Definição da funcão\n",
    "def calcular_potencia(base, expoente):\n",
    "    return base ** expoente\n",
    "\n",
    "def calcular_raiz(valor, raiz):\n",
    "    return valor ** (1 / raiz)\n",
    "\n",
    "\n",
    "# Execução da função\n",
    "val = calcular_raiz(2, 2) \n",
    "print(val)"
   ]
  },
  {
   "cell_type": "markdown",
   "metadata": {
    "colab_type": "text",
    "id": "mafWZUA1udYO"
   },
   "source": [
    "Há várias novidades acontecendo por aqui que devemos analisar. Basicamente, definimos a função *calcular_quadrado()* e a executamos para obter o quadrado de 3. Quando trabalhamos com uma função, temos que pensar em duas coisas: defini-la e executá-la. Nas linhas 1, 2 e 3 estamos definindo a função. Na linha 5, ela é executada."
   ]
  },
  {
   "cell_type": "markdown",
   "metadata": {
    "colab_type": "text",
    "id": "FeVhFeRSuy8c"
   },
   "source": [
    "**Definindo a função**\n",
    "\n",
    "A palavra-chave def é usada quando queremos definir uma função. Após, fornecemos um nome. Este nome deve seguir as mesmas regras que nomes de variáveis. Entre parênteses vão os parâmetros e, finalmente, dois pontos (:). Parâmetro é uma variável (x, neste caso) que recebe um valor quando a função é executada (veja a seção “*Executando uma função*”).\n",
    "O código que faz parte da função deve ir indentado (veja quadro indentação).\n",
    "\n",
    "**Linhas** de código com a mesma indentação pertencem a um mesmo bloco. Neste caso, pertencem\n",
    "ao bloco da função *calcular_quadrado()*. Isto ocorre nas linhas 2 e 3.\n",
    "Dentro do bloco vemos um novo comando, o return. “Return”, em inglês, significa retorne (devolva). Neste caso, retornará (quando a função for executada) o valor da variável quadrado que, por sua vez, guarda o valor do quadrado de *x*. Se este comando não existir dentro de uma função, a função retornará o valor *None*. “*None*” significa “*nenhum*” em inglês."
   ]
  },
  {
   "cell_type": "markdown",
   "metadata": {
    "colab_type": "text",
    "id": "Yf8w4kQwvca_"
   },
   "source": [
    "**Executando a função**\n",
    "\n",
    "Na programação, é muito comum usar o termo “chamar” uma função para executá\n",
    "-la. Chamamos uma função colocando seu nome e, entre parênteses, os argumentos. Quando chamamos uma função, passa a ser executado o código que estiver no bloco da função.\n",
    "No exemplo, chamamos a função com o valor 3 (argumento), na linha 5. O parâmetro x na definição da função guardará esse valor e será, então, executado o bloco da função (linhas 2 e 3).\n",
    "Com a executação do bloco, será retornado o valor 9. O valor retornado será guardado na variável val (linha 5) e impresso na tela (linha 6). Uma função é definida uma vez e pode ser chamada quantas vezes desejarmos.\n",
    "Continuemos com o código chamando esta função outras vezes."
   ]
  },
  {
   "cell_type": "code",
   "execution_count": null,
   "metadata": {
    "colab": {},
    "colab_type": "code",
    "id": "UhriGX-buwnY"
   },
   "outputs": [],
   "source": [
    "def calcular_quadrado(x):\n",
    "    quadrado = x ** 2 \n",
    "    return quadrado \n",
    " \n",
    "val = calcular_quadrado(3) \n",
    "print(val)\n",
    "\n",
    "print(calcular_quadrado(6))\n",
    "print(calcular_quadrado(20))"
   ]
  },
  {
   "cell_type": "code",
   "execution_count": null,
   "metadata": {
    "colab": {},
    "colab_type": "code",
    "id": "bHTVg-bXv3wB"
   },
   "outputs": [],
   "source": [
    "var = 4 # guarda 4 em var\n",
    "print(var) # imprime o valor de var"
   ]
  },
  {
   "cell_type": "markdown",
   "metadata": {
    "colab_type": "text",
    "id": "jwKbO8DOv8cN"
   },
   "source": [
    "**Variáveis Locais** X **Variáveis Globais**\n",
    "\n",
    "Existem alguns comportamentos “sobrenaturais” quando trabalhamos com funções. Que tal um exemplo?"
   ]
  },
  {
   "cell_type": "code",
   "execution_count": 16,
   "metadata": {
    "colab": {},
    "colab_type": "code",
    "id": "0TzczYE6wIad"
   },
   "outputs": [
    {
     "ename": "SyntaxError",
     "evalue": "name 'val' is used prior to global declaration (<ipython-input-16-ce8ff22bf1a9>, line 6)",
     "output_type": "error",
     "traceback": [
      "\u001b[0;36m  File \u001b[0;32m\"<ipython-input-16-ce8ff22bf1a9>\"\u001b[0;36m, line \u001b[0;32m6\u001b[0m\n\u001b[0;31m    print(val1)\u001b[0m\n\u001b[0m           ^\u001b[0m\n\u001b[0;31mSyntaxError\u001b[0m\u001b[0;31m:\u001b[0m name 'val' is used prior to global declaration\n"
     ]
    }
   ],
   "source": [
    "def funcaoTeste():\n",
    "    print(val)\n",
    "    val1 = 5\n",
    "\n",
    "funcaoTeste()\n",
    "print(\"val vale:\", val1)"
   ]
  },
  {
   "cell_type": "markdown",
   "metadata": {
    "colab_type": "text",
    "id": "ExSW5kdrv_Wv"
   },
   "source": [
    "O que aconteceu aqui? Foi definida uma função que guarda o valor 5 na variável val, ela foi executada e impresso o valor de val. Mas por que a mensagem de erro parecendo dizer que val não está definida? O que é que deu errado?\n",
    "O problema é que val é uma variável local. Parâmetros e variáveis criadas dentro de uma determinada função (usando ”=”, por exemplo) são chamadas variáveis locais e “vivem” apenas dentro da função. Quando a função termina de executar suas instruções, as variáveis locais “morrem”. Como a instrução para imprimir está fora da função, apenas será enxergado o valor de val que estiver fora da função, se existir, senão aparecerá um erro."
   ]
  },
  {
   "cell_type": "markdown",
   "metadata": {
    "colab_type": "text",
    "id": "nVjqET8VwxVo"
   },
   "source": [
    "Embora por fora de uma função não possamos enxergar uma variável local, o inverso é possível. Ou seja, de dentro de uma função podemos ver uma variável criada fora (chamada variável global) desde que ela tenha sido definida antes de chamar a função."
   ]
  },
  {
   "cell_type": "markdown",
   "metadata": {
    "colab_type": "text",
    "id": "AgEpn4Lkw6Y1"
   },
   "source": [
    "É possível modificar o valor de uma variável global dentro de uma função, mas como este tipo de procedimento não é considerado uma boa prática de programação não o trataremos aqui. Caso seja necessário fazê-lo, será explicado em devida oportunidade."
   ]
  },
  {
   "cell_type": "code",
   "execution_count": null,
   "metadata": {
    "colab": {},
    "colab_type": "code",
    "id": "nefP27fswwmb"
   },
   "outputs": [],
   "source": [
    "def funcaoTeste2():\n",
    "    print(\"val vale:\", val)\n",
    "\n",
    "val = 2\n",
    "funcaoTeste2()"
   ]
  },
  {
   "cell_type": "markdown",
   "metadata": {
    "colab_type": "text",
    "id": "bO8A4BWcxGXF"
   },
   "source": [
    "# Funções de Python Built-in"
   ]
  },
  {
   "cell_type": "markdown",
   "metadata": {
    "colab_type": "text",
    "id": "45pPJp9SuZHF"
   },
   "source": [
    "Python possui algumas funções prontas (já definidas) que podem nos auxiliar em\n",
    "nosso trabalho. Vejamos algumas delas:\n",
    "\n",
    "As funções podem receber alguns valores e trabalhar com eles. Abaixo temos a função calcular_quadrado()* *texto em itálico*, que calcula o quadrado de um número, assim como a função matemática *f* comentada anteriormente."
   ]
  },
  {
   "cell_type": "markdown",
   "metadata": {
    "colab_type": "text",
    "id": "TUO9uHB0lu8a"
   },
   "source": [
    "# len(x)\n",
    "Esta função recebe uma string, lista, tupla ou dicionário e retorna o seu tamanho. Ex:"
   ]
  },
  {
   "cell_type": "code",
   "execution_count": 17,
   "metadata": {
    "colab": {
     "base_uri": "https://localhost:8080/",
     "height": 34
    },
    "colab_type": "code",
    "executionInfo": {
     "elapsed": 902,
     "status": "ok",
     "timestamp": 1598643824009,
     "user": {
      "displayName": "Daiana Paula Sales",
      "photoUrl": "https://lh3.googleusercontent.com/a-/AOh14GgUlQdA25hqZcSRC40I48zHwLpEbKzoq8OKc11C2EU=s64",
      "userId": "05914952627560019471"
     },
     "user_tz": 180
    },
    "id": "7LFb-0kgl0Ah",
    "outputId": "7d50119b-b95b-401c-af33-3d391c8f996f"
   },
   "outputs": [
    {
     "data": {
      "text/plain": [
       "4"
      ]
     },
     "execution_count": 17,
     "metadata": {},
     "output_type": "execute_result"
    }
   ],
   "source": [
    "len(\"casa\") # retorna 4, pois esta string tem 4 caracteres"
   ]
  },
  {
   "cell_type": "code",
   "execution_count": 18,
   "metadata": {
    "colab": {},
    "colab_type": "code",
    "id": "jDZH03tHmQia"
   },
   "outputs": [
    {
     "data": {
      "text/plain": [
       "1"
      ]
     },
     "execution_count": 18,
     "metadata": {},
     "output_type": "execute_result"
    }
   ],
   "source": [
    "len(['casa']) # retorna 1, pois esta lista possui um elemento"
   ]
  },
  {
   "cell_type": "markdown",
   "metadata": {
    "colab_type": "text",
    "id": "5ml_VDbMl0iU"
   },
   "source": [
    "# int(x)\n",
    "Esta função recebe um número ou uma string (desde que contenha um inteiro) e\n",
    "retorna um inteiro. Ex:"
   ]
  },
  {
   "cell_type": "code",
   "execution_count": 20,
   "metadata": {
    "colab": {},
    "colab_type": "code",
    "id": "VKE3VKwTmXrx"
   },
   "outputs": [
    {
     "data": {
      "text/plain": [
       "3"
      ]
     },
     "execution_count": 20,
     "metadata": {},
     "output_type": "execute_result"
    }
   ],
   "source": [
    "int(3.99) # retorna 3"
   ]
  },
  {
   "cell_type": "code",
   "execution_count": 21,
   "metadata": {
    "colab": {},
    "colab_type": "code",
    "id": "t1UL-BG7mfVJ"
   },
   "outputs": [
    {
     "data": {
      "text/plain": [
       "2"
      ]
     },
     "execution_count": 21,
     "metadata": {},
     "output_type": "execute_result"
    }
   ],
   "source": [
    "int(\"2\") # retorna 2"
   ]
  },
  {
   "cell_type": "code",
   "execution_count": 32,
   "metadata": {},
   "outputs": [
    {
     "data": {
      "text/plain": [
       "63"
      ]
     },
     "execution_count": 32,
     "metadata": {},
     "output_type": "execute_result"
    }
   ],
   "source": [
    "int(\"3f\", 16)    #AB523F  -> 171, 82, 63  rgb(171, 82, 63)"
   ]
  },
  {
   "cell_type": "markdown",
   "metadata": {
    "colab_type": "text",
    "id": "QUF2MkEImgp-"
   },
   "source": [
    "# float(x)\n",
    "Esta função recebe um número ou uma string (desde que contenha um número) e\n",
    "retorna um float. Ex:"
   ]
  },
  {
   "cell_type": "code",
   "execution_count": null,
   "metadata": {
    "colab": {},
    "colab_type": "code",
    "id": "DNfjXozoyAml"
   },
   "outputs": [],
   "source": [
    "float(2) # retorna 2.0"
   ]
  },
  {
   "cell_type": "code",
   "execution_count": 35,
   "metadata": {
    "colab": {},
    "colab_type": "code",
    "id": "bIWRRNGZyAGM"
   },
   "outputs": [
    {
     "data": {
      "text/plain": [
       "2.5"
      ]
     },
     "execution_count": 35,
     "metadata": {},
     "output_type": "execute_result"
    }
   ],
   "source": [
    "float(\"2.50\") # retorna 2.5"
   ]
  },
  {
   "cell_type": "code",
   "execution_count": 34,
   "metadata": {},
   "outputs": [
    {
     "ename": "ValueError",
     "evalue": "could not convert string to float: '   2. 50 '",
     "output_type": "error",
     "traceback": [
      "\u001b[0;31m---------------------------------------------------------------------------\u001b[0m",
      "\u001b[0;31mValueError\u001b[0m                                Traceback (most recent call last)",
      "\u001b[0;32m<ipython-input-34-a50b61a786d9>\u001b[0m in \u001b[0;36m<module>\u001b[0;34m\u001b[0m\n\u001b[0;32m----> 1\u001b[0;31m \u001b[0mfloat\u001b[0m\u001b[0;34m(\u001b[0m\u001b[0;34m\"   2. 50 \"\u001b[0m\u001b[0;34m)\u001b[0m\u001b[0;34m\u001b[0m\u001b[0;34m\u001b[0m\u001b[0m\n\u001b[0m",
      "\u001b[0;31mValueError\u001b[0m: could not convert string to float: '   2. 50 '"
     ]
    }
   ],
   "source": [
    "float(\"   2. 50 \")"
   ]
  },
  {
   "cell_type": "markdown",
   "metadata": {
    "colab_type": "text",
    "id": "paaQj3BNyGMb"
   },
   "source": [
    "# str(x)\n",
    "Esta função converte o que recebe em uma string. Ex:"
   ]
  },
  {
   "cell_type": "code",
   "execution_count": null,
   "metadata": {
    "colab": {},
    "colab_type": "code",
    "id": "aqup0FIFyFY8"
   },
   "outputs": [],
   "source": [
    "str(1000) # retorna ‘1000’"
   ]
  },
  {
   "cell_type": "markdown",
   "metadata": {
    "colab_type": "text",
    "id": "Su_7v6M8yaXH"
   },
   "source": [
    "# list(e)\n",
    "Esta função converte o elemento que recebe em uma lista. Atenção, funciona apenas com elementos onde é possível fazer indexação (tuplas, strings, etc.) Ex:"
   ]
  },
  {
   "cell_type": "code",
   "execution_count": null,
   "metadata": {
    "colab": {},
    "colab_type": "code",
    "id": "BRbqwOQXyaxe"
   },
   "outputs": [],
   "source": [
    "list((1,2,3)) # retorna [1,2,3]\n",
    "list('Ola') # retorna [‘O’, ‘l’, ‘a’]"
   ]
  },
  {
   "cell_type": "markdown",
   "metadata": {
    "colab_type": "text",
    "id": "fBVx-aGiypJf"
   },
   "source": [
    "# tuple(e)\n",
    "Esta função converte o elemento que recebe em uma tupla. Atenção, funciona apenas com elementos onde é possível fazer indexação (listas, strings, etc.) Ex:"
   ]
  },
  {
   "cell_type": "code",
   "execution_count": null,
   "metadata": {
    "colab": {},
    "colab_type": "code",
    "id": "GWn9TgRPytsY"
   },
   "outputs": [],
   "source": [
    "tuple([1,2,3]) # retorna (1,2,3)\n",
    "tuple('Ola') # retorna (‘O’, ‘l’, ‘a’)"
   ]
  },
  {
   "cell_type": "markdown",
   "metadata": {
    "colab_type": "text",
    "id": "jiPdXI76yybx"
   },
   "source": [
    "# round(x, y)\n",
    "Esta função recebe um número (x) e, optativamente, um inteiro (y) e retorna o valor de x arredondado para y casas decimais. Ex:"
   ]
  },
  {
   "cell_type": "code",
   "execution_count": null,
   "metadata": {
    "colab": {},
    "colab_type": "code",
    "id": "E3FLjtA5y1RL"
   },
   "outputs": [],
   "source": [
    "round(2.978, 2) # retorna 2.98\n",
    "round(3.4) # retorna 3.0"
   ]
  },
  {
   "cell_type": "code",
   "execution_count": 43,
   "metadata": {},
   "outputs": [
    {
     "data": {
      "text/plain": [
       "3.0"
      ]
     },
     "execution_count": 43,
     "metadata": {},
     "output_type": "execute_result"
    }
   ],
   "source": [
    "round(2.949, 0)    # Não sei se tem no Python2?"
   ]
  },
  {
   "cell_type": "markdown",
   "metadata": {
    "colab_type": "text",
    "id": "RNw7deUMzAPF"
   },
   "source": [
    "# range(a, b, c)\n",
    "Esta função recebe um, dois ou até três inteiros e retorna uma lista que contém uma sequência que vai desde o número do primeiro argumento (incluindo-o) até o número do segundo argumento (excluindo-o) em passos dado pelo terceiro argumento. Ex:"
   ]
  },
  {
   "cell_type": "code",
   "execution_count": null,
   "metadata": {
    "colab": {},
    "colab_type": "code",
    "id": "o6pj8hn2y-La"
   },
   "outputs": [],
   "source": [
    "range(7) # retorna [0, 1, 2, 3, 4, 5, 6]\n",
    "range(1, 7) # retorna [1, 2, 3, 4, 5, 6]\n",
    "range(1, 7, 2) # retorna [1, 3, 5]"
   ]
  },
  {
   "cell_type": "markdown",
   "metadata": {
    "colab_type": "text",
    "id": "ZFXMAjSozKwQ"
   },
   "source": [
    "# type(x)\n",
    "Com esta função podemos determinar o tipo de algum valor (ou variável). Ex:"
   ]
  },
  {
   "cell_type": "code",
   "execution_count": null,
   "metadata": {
    "colab": {},
    "colab_type": "code",
    "id": "hzsNMHTwzO0f"
   },
   "outputs": [],
   "source": [
    "type(8) # retorna <type ‘int’>, indicando que é um inteiro.\n",
    "var = '2.3'\n",
    "type(var) # retorna <type ‘str’>, indicando que é uma string."
   ]
  },
  {
   "cell_type": "markdown",
   "metadata": {
    "colab_type": "text",
    "id": "rWkc8cWkzTES"
   },
   "source": [
    "# Input(mensagem)\n",
    "Esta é uma função muito útil para receber dados por teclado. Ela tem um comportamento um pouco diferente das outras vistas. Ela mostrará a mensagem passada como argumento (se alguma), pausará a execução do programa para que o usuário coloque algum dado por teclado e pressione a tecla ENTER, transformará o que foi colocado em uma string **e**, finalmente, a retornará. Vejamos um exemplo:"
   ]
  },
  {
   "cell_type": "code",
   "execution_count": 44,
   "metadata": {
    "colab": {
     "base_uri": "https://localhost:8080/",
     "height": 528
    },
    "colab_type": "code",
    "executionInfo": {
     "elapsed": 8909,
     "status": "error",
     "timestamp": 1598647436720,
     "user": {
      "displayName": "Daiana Paula Sales",
      "photoUrl": "https://lh3.googleusercontent.com/a-/AOh14GgUlQdA25hqZcSRC40I48zHwLpEbKzoq8OKc11C2EU=s64",
      "userId": "05914952627560019471"
     },
     "user_tz": 180
    },
    "id": "VJUfD-EwzX1a",
    "outputId": "bf28db67-41ad-41e2-f605-4abf15991fa8"
   },
   "outputs": [
    {
     "name": "stdout",
     "output_type": "stream",
     "text": [
      "Digite seu nome:\n",
      "Carlos\n",
      "Carlos\n"
     ]
    }
   ],
   "source": [
    "nome = input(\"Digite seu nome:\\n\")\n",
    "#Digite seu nome: # isto aparecerá na tela do terminal\n",
    "#Fulano Beltrano # colocamos um nome e pressionamos a tecla ENTER\n",
    "print( nome) # imprime: Fulano Beltrano (essa string foi guardada em nome)"
   ]
  },
  {
   "cell_type": "code",
   "execution_count": null,
   "metadata": {
    "colab": {},
    "colab_type": "code",
    "id": "--pviYzA0DFU"
   },
   "outputs": [],
   "source": []
  }
 ],
 "metadata": {
  "colab": {
   "authorship_tag": "ABX9TyOBnRFw7dq5ykcsFJrHF7SD",
   "name": "Funções.ipynb",
   "provenance": []
  },
  "kernelspec": {
   "display_name": "Python 3",
   "language": "python",
   "name": "python3"
  },
  "language_info": {
   "codemirror_mode": {
    "name": "ipython",
    "version": 3
   },
   "file_extension": ".py",
   "mimetype": "text/x-python",
   "name": "python",
   "nbconvert_exporter": "python",
   "pygments_lexer": "ipython3",
   "version": "3.7.7"
  }
 },
 "nbformat": 4,
 "nbformat_minor": 1
}
