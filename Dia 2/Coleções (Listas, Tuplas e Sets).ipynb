{
 "cells": [
  {
   "cell_type": "markdown",
   "metadata": {},
   "source": [
    "# Estruturas de dados (Listas e Tuplas)\n",
    "\n",
    "## Listas"
   ]
  },
  {
   "cell_type": "code",
   "execution_count": 2,
   "metadata": {},
   "outputs": [],
   "source": [
    "# Defonição de Listas\n",
    "lista1 = [1, 2, 3, 4]\n",
    "lista2 = [\"A\", \"B\", \"C\", \"D\"]\n",
    "\n",
    "# É possível misturar tipos de dados diferentes\n",
    "lista3 = [1, \"Casa\", 2.75]\n",
    "\n",
    "# Lista de um único item\n",
    "lista4 = [1]\n",
    "\n",
    "# Lista Vazia\n",
    "lista5 = []"
   ]
  },
  {
   "cell_type": "markdown",
   "metadata": {},
   "source": [
    "## Tuplas"
   ]
  },
  {
   "cell_type": "code",
   "execution_count": 4,
   "metadata": {},
   "outputs": [],
   "source": [
    "# Defonição de Tuplas\n",
    "tupla1 = (1, 2, 3, 4)\n",
    "tupla2 = (\"A\", \"B\", \"C\", \"D\")\n",
    "\n",
    "# É possível misturar tipos de dados diferentes\n",
    "tupla3 = (1, \"Casa\", 2.75)\n",
    "\n",
    "# Lista de um único item (Notem a Vírgula após o item)\n",
    "lista4 = (1,)\n",
    "\n",
    "# Lista Vazia\n",
    "lista5 = ()"
   ]
  },
  {
   "cell_type": "markdown",
   "metadata": {},
   "source": [
    "### Acesso de items de listas e tuplas\n",
    "\n",
    "-  Zero-Based Index"
   ]
  },
  {
   "cell_type": "code",
   "execution_count": null,
   "metadata": {},
   "outputs": [],
   "source": []
  },
  {
   "cell_type": "markdown",
   "metadata": {},
   "source": [
    "### Slices em Listas/Tuplas"
   ]
  },
  {
   "cell_type": "code",
   "execution_count": null,
   "metadata": {},
   "outputs": [],
   "source": []
  },
  {
   "cell_type": "markdown",
   "metadata": {},
   "source": [
    "### Listas e Tuplas são \"indexable\" and \"sliceable\" - Assim como strings!!!"
   ]
  },
  {
   "cell_type": "code",
   "execution_count": null,
   "metadata": {},
   "outputs": [],
   "source": []
  },
  {
   "cell_type": "markdown",
   "metadata": {},
   "source": [
    "### Operadores de Listas/Tuplas\n",
    "\n",
    "- **_Concatenação_**: +\n",
    "- **Multiplicação**: *"
   ]
  },
  {
   "cell_type": "code",
   "execution_count": null,
   "metadata": {},
   "outputs": [],
   "source": []
  },
  {
   "cell_type": "markdown",
   "metadata": {},
   "source": [
    "### Operador lógico em Listas/Tuplas\n",
    "- **Está contido**: in"
   ]
  },
  {
   "cell_type": "code",
   "execution_count": null,
   "metadata": {},
   "outputs": [],
   "source": []
  },
  {
   "cell_type": "markdown",
   "metadata": {},
   "source": [
    "## *_OBS_*: Conceituação de Tipo de dado Imutável de Tipo Mutável\n",
    "\n",
    "- **_Tipo de dado mutável_**: Uma parte do conteúdo pode ser modificado\n",
    "- **_Tipo de dado Imutável_**: Nada pode ser mudado, somente com reatribuição de variável"
   ]
  },
  {
   "cell_type": "markdown",
   "metadata": {},
   "source": [
    "1. Atribuição de valores"
   ]
  },
  {
   "cell_type": "code",
   "execution_count": null,
   "metadata": {},
   "outputs": [],
   "source": []
  },
  {
   "cell_type": "markdown",
   "metadata": {},
   "source": [
    "2. Exclusão de itens"
   ]
  },
  {
   "cell_type": "code",
   "execution_count": null,
   "metadata": {},
   "outputs": [],
   "source": []
  },
  {
   "cell_type": "markdown",
   "metadata": {},
   "source": [
    "## Sets\n",
    "\n",
    "- Tipo especia de coleção de valores únicos"
   ]
  },
  {
   "cell_type": "code",
   "execution_count": 17,
   "metadata": {},
   "outputs": [],
   "source": [
    "set1 = set([1,2,3,4,4])  # Python2\n",
    "\n",
    "set2 = {1,2,3,4,4}  # Python3"
   ]
  }
 ],
 "metadata": {
  "kernelspec": {
   "display_name": "Python 3",
   "language": "python",
   "name": "python3"
  },
  "language_info": {
   "codemirror_mode": {
    "name": "ipython",
    "version": 3
   },
   "file_extension": ".py",
   "mimetype": "text/x-python",
   "name": "python",
   "nbconvert_exporter": "python",
   "pygments_lexer": "ipython3",
   "version": "3.7.7"
  }
 },
 "nbformat": 4,
 "nbformat_minor": 4
}
