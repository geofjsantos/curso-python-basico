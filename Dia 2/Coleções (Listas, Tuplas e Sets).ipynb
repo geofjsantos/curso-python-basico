{
 "cells": [
  {
   "cell_type": "markdown",
   "metadata": {},
   "source": [
    "# Estruturas de dados (Listas e Tuplas)\n",
    "\n",
    "## Listas"
   ]
  },
  {
   "cell_type": "code",
   "execution_count": 9,
   "metadata": {},
   "outputs": [
    {
     "name": "stdout",
     "output_type": "stream",
     "text": [
      "[1]\n"
     ]
    }
   ],
   "source": [
    "# Definição de Listas\n",
    "lista1 = [1, 2, 3, 4]\n",
    "lista2 = [\"A\", \"B\", \"C\", \"D\"]\n",
    "\n",
    "# É possível misturar tipos de dados diferentes\n",
    "lista3 = [1, \"Casa\", 2.75, [1, 2, 3]]\n",
    "\n",
    "# Lista de um único item\n",
    "lista4 = [1,]\n",
    "\n",
    "# Lista Vazia\n",
    "lista5 = []\n",
    "\n",
    "print(lista4)"
   ]
  },
  {
   "cell_type": "markdown",
   "metadata": {},
   "source": [
    "## Tuplas"
   ]
  },
  {
   "cell_type": "code",
   "execution_count": 7,
   "metadata": {},
   "outputs": [
    {
     "name": "stdout",
     "output_type": "stream",
     "text": [
      "(2,)\n"
     ]
    }
   ],
   "source": [
    "# Defonição de Tuplas\n",
    "tupla1 = (1, 2, 3, 4)\n",
    "tupla2 = (\"A\", \"B\", \"C\", \"D\")\n",
    "\n",
    "# É possível misturar tipos de dados diferentes\n",
    "tupla3 = (1, \"Casa\", 2.75)\n",
    "\n",
    "# Tupla de um único item (Notem a Vírgula após o item)\n",
    "tupla4 = (1 + 1,)\n",
    "\n",
    "# Tupla Vazia\n",
    "tupla5 = ()\n",
    "\n",
    "print(tupla4)"
   ]
  },
  {
   "cell_type": "markdown",
   "metadata": {},
   "source": [
    "### Acesso de items de listas e tuplas\n",
    "\n",
    "-  Zero-Based Index\n",
    "\n",
    "index + -> 0, 1, 2, 3...\n",
    "\n",
    "[1, 2, 3, 4]\n",
    "\n",
    "index - <- ..., -3, -2, -1"
   ]
  },
  {
   "cell_type": "code",
   "execution_count": 10,
   "metadata": {},
   "outputs": [
    {
     "name": "stdout",
     "output_type": "stream",
     "text": [
      "2.75\n"
     ]
    }
   ],
   "source": [
    "print(tupla3[-1])"
   ]
  },
  {
   "cell_type": "markdown",
   "metadata": {},
   "source": [
    "### Slices em Listas/Tuplas"
   ]
  },
  {
   "cell_type": "code",
   "execution_count": 16,
   "metadata": {},
   "outputs": [
    {
     "name": "stdout",
     "output_type": "stream",
     "text": [
      "[1, 2, 3, 4]\n",
      "[2, 3]\n",
      "[2, 3, 4]\n",
      "[1, 2, 3]\n",
      "[1, 2, 3]\n"
     ]
    }
   ],
   "source": [
    "# Lista\n",
    "print(lista1)\n",
    "\n",
    "# Segundo e o terceiro items\n",
    "# [lista1[1], lista1[2]]\n",
    "# Primeiro índice inclusivo : segundo índice exclusivo\n",
    "print(lista1[1:3])\n",
    "\n",
    "\n",
    "# Pegar do segundo elemento pra frente\n",
    "print(lista1[1:])\n",
    "\n",
    "# Os três primeiros itens\n",
    "print(lista1[:3])\n",
    "\n",
    "#\n",
    "print(lista1[:-1])"
   ]
  },
  {
   "cell_type": "markdown",
   "metadata": {},
   "source": [
    "### Listas e Tuplas são \"indexable\" and \"sliceable\" - Assim como strings!!!"
   ]
  },
  {
   "cell_type": "code",
   "execution_count": 17,
   "metadata": {},
   "outputs": [
    {
     "name": "stdout",
     "output_type": "stream",
     "text": [
      "E\n",
      "los E\n",
      "['C', 'a', 'r', 'l', 'o', 's', ' ', 'E', 'd', 'u', 'a', 'r', 'd', 'o', ' ', 'M', 'o', 't', 'a']\n",
      "('C', 'a', 'r', 'l', 'o', 's', ' ', 'E', 'd', 'u', 'a', 'r', 'd', 'o', ' ', 'M', 'o', 't', 'a')\n"
     ]
    }
   ],
   "source": [
    "nome = \"Carlos Eduardo Mota\"\n",
    "\n",
    "# Strings são indexáveis, como listas\n",
    "print(nome[7])\n",
    "\n",
    "# Strings são fatiáveis\n",
    "print(nome[3:8])\n",
    "\n",
    "#\n",
    "print(list(nome))\n",
    "\n",
    "print(tuple(nome))"
   ]
  },
  {
   "cell_type": "markdown",
   "metadata": {},
   "source": [
    "### Operadores de Listas/Tuplas  (ITERÁVEIS)\n",
    "\n",
    "- **_Concatenação_**: +\n",
    "- **Multiplicação**: *"
   ]
  },
  {
   "cell_type": "code",
   "execution_count": 24,
   "metadata": {},
   "outputs": [
    {
     "name": "stdout",
     "output_type": "stream",
     "text": [
      "[1, 2, 3, 4, 'A', 'B', 'C', 'D']\n",
      "(1, 2, 3, 4, 'A', 'B', 'C', 'D')\n",
      "(1, 2, 3, 4, 'A', 'B', 'C', 'D')\n"
     ]
    },
    {
     "data": {
      "text/plain": [
       "(1, 2, 3, 4, 1, 2, 3, 4, 1, 2, 3, 4, 1, 2, 3, 4, 1, 2, 3, 4, 1, 2, 3, 4)"
      ]
     },
     "execution_count": 24,
     "metadata": {},
     "output_type": "execute_result"
    }
   ],
   "source": [
    "print(lista1 + lista2)\n",
    "\n",
    "print(tupla1 + tupla2)\n",
    "\n",
    "print(tupla1 + tuple(lista2))\n",
    "\n",
    "# Multiplicação\n",
    "tupla1 * 6"
   ]
  },
  {
   "cell_type": "markdown",
   "metadata": {},
   "source": [
    "### Operador lógico em Listas/Tuplas\n",
    "- **Está contido**: in -: Objeto está contido em iterável\n",
    "\n",
    "STRINGS -> Verifica se o termo está contido na cadeia de caracteres"
   ]
  },
  {
   "cell_type": "code",
   "execution_count": 48,
   "metadata": {},
   "outputs": [
    {
     "name": "stdout",
     "output_type": "stream",
     "text": [
      "O nome é da família\n"
     ]
    }
   ],
   "source": [
    "#\n",
    "teste = (1, \"Cavalo\", [1, 3], \"False\")\n",
    "\n",
    "#True in teste\n",
    "\n",
    "# Mais de um teste \"in\"\n",
    "#print(1 in teste and 3 in teste or 7 in teste)\n",
    "\n",
    "# Teste lógico em string\n",
    "nome = \"Carlos Eduardo Mota\"\n",
    "\n",
    "if \"Mota\" in nome:\n",
    "    print(\"O nome informado é da família\")"
   ]
  },
  {
   "cell_type": "markdown",
   "metadata": {},
   "source": [
    "## *_OBS_*: Conceituação de Tipo de dado Imutável de Tipo Mutável\n",
    "\n",
    "- **_Tipo de dado mutável_**: Uma parte do conteúdo pode ser modificado\n",
    "- **_Tipo de dado Imutável_**: Nada pode ser mudado, somente com reatribuição de variável"
   ]
  },
  {
   "cell_type": "markdown",
   "metadata": {},
   "source": [
    "1. Atribuição de valores"
   ]
  },
  {
   "cell_type": "code",
   "execution_count": 49,
   "metadata": {},
   "outputs": [
    {
     "name": "stdout",
     "output_type": "stream",
     "text": [
      "[100, 2, 3, 4]\n"
     ]
    },
    {
     "ename": "TypeError",
     "evalue": "'tuple' object does not support item assignment",
     "output_type": "error",
     "traceback": [
      "\u001B[0;31m---------------------------------------------------------------------------\u001B[0m",
      "\u001B[0;31mTypeError\u001B[0m                                 Traceback (most recent call last)",
      "\u001B[0;32m<ipython-input-49-0458fd31f172>\u001B[0m in \u001B[0;36m<module>\u001B[0;34m\u001B[0m\n\u001B[1;32m      6\u001B[0m \u001B[0;34m\u001B[0m\u001B[0m\n\u001B[1;32m      7\u001B[0m \u001B[0;31m# Tuplas são imutáveis\u001B[0m\u001B[0;34m\u001B[0m\u001B[0;34m\u001B[0m\u001B[0;34m\u001B[0m\u001B[0m\n\u001B[0;32m----> 8\u001B[0;31m \u001B[0mtupla1\u001B[0m\u001B[0;34m[\u001B[0m\u001B[0;36m0\u001B[0m\u001B[0;34m]\u001B[0m \u001B[0;34m=\u001B[0m \u001B[0;36m100\u001B[0m\u001B[0;34m\u001B[0m\u001B[0;34m\u001B[0m\u001B[0m\n\u001B[0m\u001B[1;32m      9\u001B[0m \u001B[0;34m\u001B[0m\u001B[0m\n\u001B[1;32m     10\u001B[0m \u001B[0mprint\u001B[0m\u001B[0;34m(\u001B[0m\u001B[0mtupla1\u001B[0m\u001B[0;34m)\u001B[0m\u001B[0;34m\u001B[0m\u001B[0;34m\u001B[0m\u001B[0m\n",
      "\u001B[0;31mTypeError\u001B[0m: 'tuple' object does not support item assignment"
     ]
    }
   ],
   "source": [
    "# Listas são mutáveis\n",
    "lista1[0] = 100\n",
    "\n",
    "print(lista1)\n",
    "\n",
    "\n",
    "# Tuplas são imutáveis\n",
    "tupla1[0] = 100\n",
    "\n",
    "print(tupla1)"
   ]
  },
  {
   "cell_type": "markdown",
   "metadata": {},
   "source": [
    "2. Exclusão de itens"
   ]
  },
  {
   "cell_type": "code",
   "execution_count": 50,
   "metadata": {},
   "outputs": [
    {
     "name": "stdout",
     "output_type": "stream",
     "text": [
      "[2, 3, 4]\n"
     ]
    },
    {
     "ename": "TypeError",
     "evalue": "'tuple' object doesn't support item deletion",
     "output_type": "error",
     "traceback": [
      "\u001B[0;31m---------------------------------------------------------------------------\u001B[0m",
      "\u001B[0;31mTypeError\u001B[0m                                 Traceback (most recent call last)",
      "\u001B[0;32m<ipython-input-50-44a876e42ad2>\u001B[0m in \u001B[0;36m<module>\u001B[0;34m\u001B[0m\n\u001B[1;32m      6\u001B[0m \u001B[0;34m\u001B[0m\u001B[0m\n\u001B[1;32m      7\u001B[0m \u001B[0;31m# Tuplas são imutáveis\u001B[0m\u001B[0;34m\u001B[0m\u001B[0;34m\u001B[0m\u001B[0;34m\u001B[0m\u001B[0m\n\u001B[0;32m----> 8\u001B[0;31m \u001B[0;32mdel\u001B[0m \u001B[0mtupla1\u001B[0m\u001B[0;34m[\u001B[0m\u001B[0;36m0\u001B[0m\u001B[0;34m]\u001B[0m\u001B[0;34m\u001B[0m\u001B[0;34m\u001B[0m\u001B[0m\n\u001B[0m\u001B[1;32m      9\u001B[0m \u001B[0;34m\u001B[0m\u001B[0m\n\u001B[1;32m     10\u001B[0m \u001B[0mprint\u001B[0m\u001B[0;34m(\u001B[0m\u001B[0mtupla1\u001B[0m\u001B[0;34m)\u001B[0m\u001B[0;34m\u001B[0m\u001B[0;34m\u001B[0m\u001B[0m\n",
      "\u001B[0;31mTypeError\u001B[0m: 'tuple' object doesn't support item deletion"
     ]
    }
   ],
   "source": [
    "# Listas são mutáveis\n",
    "del lista1[0]\n",
    "\n",
    "print(lista1)\n",
    "\n",
    "\n",
    "# Tuplas são imutáveis\n",
    "del tupla1[0]\n",
    "\n",
    "print(tupla1)"
   ]
  },
  {
   "cell_type": "markdown",
   "metadata": {},
   "source": [
    "## Sets\n",
    "\n",
    "- Tipo especial de coleção de valores únicos"
   ]
  },
  {
   "cell_type": "code",
   "execution_count": 51,
   "metadata": {
    "pycharm": {
     "name": "#%%\n"
    }
   },
   "outputs": [
    {
     "name": "stdout",
     "output_type": "stream",
     "text": [
      "{1, 2, 3, 4}\n",
      "[1, 2, 3, 4]\n"
     ]
    }
   ],
   "source": [
    "set1 = set([1,2,3,4,4])  # Python2\n",
    "\n",
    "set2 = {1,2,3,4,4}  # Python3\n",
    "\n",
    "print(set1)\n",
    "print(list(set2))\n"
   ]
  }
 ],
 "metadata": {
  "kernelspec": {
   "display_name": "Python 3",
   "language": "python",
   "name": "python3"
  },
  "language_info": {
   "codemirror_mode": {
    "name": "ipython",
    "version": 3
   },
   "file_extension": ".py",
   "mimetype": "text/x-python",
   "name": "python",
   "nbconvert_exporter": "python",
   "pygments_lexer": "ipython3",
   "version": "3.7.7"
  }
 },
 "nbformat": 4,
 "nbformat_minor": 4
}