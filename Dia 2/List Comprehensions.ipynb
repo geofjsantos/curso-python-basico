{
 "cells": [
  {
   "cell_type": "markdown",
   "source": [
    "# Compactação\n",
    "lista de compactação\n",
    "\n",
    "\n",
    "Obs: Colocar para métodos de listas"
   ],
   "metadata": {
    "collapsed": false
   }
  },
  {
   "cell_type": "code",
   "execution_count": null,
   "outputs": [],
   "source": [
    "# for para criar a lista de cubos\n",
    "nums = [1, 2, 3, 4, 5]\n",
    "cubos = []\n",
    "for num in nums:\n",
    "    cubos.append(num**3)\n",
    "cubos"
   ],
   "metadata": {
    "collapsed": false,
    "pycharm": {
     "name": "#%%\n"
    }
   }
  },
  {
   "cell_type": "code",
   "execution_count": null,
   "outputs": [],
   "source": [
    "# lista equivalente de compactação\n",
    "cubos = [num**3 for num in nums]\n",
    "cubos"
   ],
   "metadata": {
    "collapsed": false,
    "pycharm": {
     "name": "#%%\n"
    }
   }
  },
  {
   "cell_type": "code",
   "execution_count": null,
   "outputs": [],
   "source": [
    "# for para criar uma lista de cubos de números pares\n",
    "cubos_de_pares = []\n",
    "for num in nums:\n",
    "    if num % 2 == 0:\n",
    "        cubos_de_pares.append(num**3)\n",
    "cubos_de_pares"
   ],
   "metadata": {
    "collapsed": false,
    "pycharm": {
     "name": "#%%\n"
    }
   }
  },
  {
   "cell_type": "code",
   "execution_count": null,
   "outputs": [],
   "source": [
    "# sintaxe: [expressão para variável em condição iterável se]\n",
    "cubos_de_pares = [num**3 for num in nums if num % 2 == 0]\n",
    "cubos_de_pares"
   ],
   "metadata": {
    "collapsed": false,
    "pycharm": {
     "name": "#%%\n"
    }
   }
  },
  {
   "cell_type": "code",
   "execution_count": null,
   "outputs": [],
   "source": [
    "# for para cubos números pares e números ímpares quadrados\n",
    "cubos_e_squares = []\n",
    "for num in nums:\n",
    "    if num % 2 == 0:\n",
    "        cubos_e_squares.append(num**3)\n",
    "    else:\n",
    "        cubos_e_squares.append(num**2)\n",
    "cubos_e_squares"
   ],
   "metadata": {
    "collapsed": false,
    "pycharm": {
     "name": "#%%\n"
    }
   }
  },
  {
   "cell_type": "markdown",
   "source": [
    "# List Comprehension\n",
    "\n",
    "Colocar em programação funcional"
   ],
   "metadata": {
    "collapsed": false
   }
  },
  {
   "cell_type": "code",
   "execution_count": null,
   "outputs": [],
   "source": [
    "frutas = ['maca', 'banana', 'manga']\n",
    "unique_lengths = {len(fruta) for fruta in frutas}\n",
    "unique_lengths"
   ],
   "metadata": {
    "collapsed": false,
    "pycharm": {
     "name": "#%%\n"
    }
   }
  },
  {
   "cell_type": "markdown",
   "source": [
    "# Dict Comprehension (Python3)"
   ],
   "metadata": {
    "collapsed": false
   }
  },
  {
   "cell_type": "code",
   "execution_count": null,
   "outputs": [],
   "source": [
    "fruta_lengths = {fruta: len(fruta) for fruta in frutas}\n",
    "fruta_lengths"
   ],
   "metadata": {
    "collapsed": false,
    "pycharm": {
     "name": "#%%\n"
    }
   }
  },
  {
   "cell_type": "code",
   "execution_count": null,
   "outputs": [],
   "source": [
    "fruta_indice = {fruta: index for index, fruta in enumerate(frutas)}\n",
    "fruta_indice"
   ],
   "metadata": {
    "collapsed": false,
    "pycharm": {
     "name": "#%%\n"
    }
   }
  }
 ],
 "metadata": {
  "kernelspec": {
   "display_name": "Python 3",
   "language": "python",
   "name": "python3"
  },
  "language_info": {
   "codemirror_mode": {
    "name": "ipython",
    "version": 2
   },
   "file_extension": ".py",
   "mimetype": "text/x-python",
   "name": "python",
   "nbconvert_exporter": "python",
   "pygments_lexer": "ipython2",
   "version": "2.7.6"
  }
 },
 "nbformat": 4,
 "nbformat_minor": 0
}