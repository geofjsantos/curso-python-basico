{
 "cells": [
  {
   "cell_type": "markdown",
   "metadata": {},
   "source": [
    "# Coleções (Dicionários)\n",
    "\n",
    "- Conceito de estrutura do tipo chave-valor"
   ]
  },
  {
   "cell_type": "code",
   "execution_count": 2,
   "metadata": {},
   "outputs": [
    {
     "data": {
      "text/plain": [
       "{'nome': 'Carlos Mota', 'idade': 37, 'altura': 1.68, 'filhos': ['Pedro']}"
      ]
     },
     "execution_count": 2,
     "metadata": {},
     "output_type": "execute_result"
    }
   ],
   "source": [
    "# Dicionários\n",
    "# A construção de Dicionário é diferente de Set\n",
    "# Chaves: numéricos, string, tuplas (IMUTÁVEIS)\n",
    "# Valores: Qualquer tipo, inclusive outros dicionários\n",
    "\n",
    "dict1 = {\"a\": \"b\", \"c\": \"d\"}\n",
    "\n",
    "dict2 = {1.5: \"b\", \"c\": \"d\", (1, 4): \"d\", \"42\": dict1}\n",
    "\n",
    "\n",
    "\n",
    "\n",
    "\n",
    "pessoa = {\"nome\": \"Carlos Mota\", \"idade\": 37, \"altura\": 1.68, \"filhos\": [\"Pedro\"]}\n",
    "pessoa"
   ]
  },
  {
   "cell_type": "markdown",
   "metadata": {},
   "source": [
    "## Acessar itens de dicionário"
   ]
  },
  {
   "cell_type": "code",
   "execution_count": 3,
   "metadata": {},
   "outputs": [
    {
     "name": "stdout",
     "output_type": "stream",
     "text": [
      "Carlos Mota\n",
      "Pedro\n"
     ]
    }
   ],
   "source": [
    "print(pessoa['nome'])\n",
    "\n",
    "# Acesso a itens aninhados\n",
    "print(pessoa['filhos'][0])"
   ]
  },
  {
   "cell_type": "markdown",
   "metadata": {},
   "source": [
    "## Adicionar items a dicionáros"
   ]
  },
  {
   "cell_type": "code",
   "execution_count": 4,
   "metadata": {},
   "outputs": [
    {
     "name": "stdout",
     "output_type": "stream",
     "text": [
      "{'nome': 'Carlos Mota', 'idade': 37, 'altura': 1.68, 'filhos': ['Pedro'], 'peso': 75.0}\n"
     ]
    }
   ],
   "source": [
    "pessoa[\"peso\"] = 75.0\n",
    "print(pessoa)"
   ]
  },
  {
   "cell_type": "markdown",
   "metadata": {},
   "source": [
    "# Modificar items de dicionários"
   ]
  },
  {
   "cell_type": "code",
   "execution_count": 5,
   "metadata": {},
   "outputs": [
    {
     "name": "stdout",
     "output_type": "stream",
     "text": [
      "{'nome': 'Carlos Mota', 'idade': 37, 'altura': 1.68, 'filhos': ['Pedro'], 'peso': 90.0}\n"
     ]
    }
   ],
   "source": [
    "pessoa[\"peso\"] = 90.0\n",
    "\n",
    "print(pessoa)"
   ]
  },
  {
   "cell_type": "markdown",
   "metadata": {},
   "source": [
    "## Apagar valores de dicionários"
   ]
  },
  {
   "cell_type": "code",
   "execution_count": 6,
   "metadata": {
    "pycharm": {
     "name": "#%%\n"
    }
   },
   "outputs": [
    {
     "name": "stdout",
     "output_type": "stream",
     "text": [
      "{'nome': 'Carlos Mota', 'idade': 37, 'altura': 1.68, 'peso': 90.0}\n"
     ]
    }
   ],
   "source": [
    "del pessoa['filhos']\n",
    "\n",
    "print(pessoa)\n"
   ]
  }
 ],
 "metadata": {
  "kernelspec": {
   "display_name": "Python 3",
   "language": "python",
   "name": "python3"
  },
  "language_info": {
   "codemirror_mode": {
    "name": "ipython",
    "version": 3
   },
   "file_extension": ".py",
   "mimetype": "text/x-python",
   "name": "python",
   "nbconvert_exporter": "python",
   "pygments_lexer": "ipython3",
   "version": "3.7.7"
  }
 },
 "nbformat": 4,
 "nbformat_minor": 4
}