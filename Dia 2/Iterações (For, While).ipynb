{
 "cells": [
  {
   "cell_type": "markdown",
   "metadata": {
    "colab_type": "text",
    "id": "WSvod0hsVe-g"
   },
   "source": [
    "# For Loops\n",
    "É fácil iterar sobre uma coleção de itens usando um loop for. As strings, listas, tuplas, conjuntos e dicionários que definimos são todos contêineres iteráveis.\n",
    "\n",
    "O loop for percorrerá o contêiner especificado, um item de cada vez, e fornecerá uma variável temporária para o item atual. Você pode usar essa variável temporária como uma variável normal."
   ]
  },
  {
   "cell_type": "code",
   "execution_count": null,
   "metadata": {},
   "outputs": [],
   "source": [
    "frutas = ['maca', 'banana', 'manga']"
   ]
  },
  {
   "cell_type": "code",
   "execution_count": null,
   "metadata": {
    "colab": {},
    "colab_type": "code",
    "id": "6fLWw72aeWWl"
   },
   "outputs": [],
   "source": [
    "# \n",
    "for i in range(len(frutas)):\n",
    "    print(frutas[i].upper())"
   ]
  },
  {
   "cell_type": "code",
   "execution_count": null,
   "metadata": {
    "colab": {},
    "colab_type": "code",
    "id": "4VpI1KtMfDul"
   },
   "outputs": [],
   "source": [
    "#\n",
    "for fruta in frutas:\n",
    "    print(fruta.upper())"
   ]
  },
  {
   "cell_type": "code",
   "execution_count": null,
   "metadata": {
    "colab": {},
    "colab_type": "code",
    "id": "_TYJ-FT0fXa3",
    "scrolled": true
   },
   "outputs": [],
   "source": [
    "#use enumerate se precisar acessar o valor do índice dentro do loop\n",
    "for index, fruta in enumerate(frutas):\n",
    "    print(index, fruta)"
   ]
  },
  {
   "cell_type": "markdown",
   "metadata": {},
   "source": [
    "# Quebra de loop (Break)"
   ]
  },
  {
   "cell_type": "code",
   "execution_count": null,
   "metadata": {
    "colab": {},
    "colab_type": "code",
    "id": "go5gwzAhhfFc"
   },
   "outputs": [],
   "source": [
    "for fruta in frutas:\n",
    "    if fruta == 'banana':\n",
    "        print('Encontrei a banana!')\n",
    "        break # sai do loop e pula o bloco 'else'\n",
    "    else:\n",
    "        # este bloco executa SOMENTE se o loop for for concluído sem pressionar 'break'\n",
    "        print(\"não encontrei a banana\")"
   ]
  },
  {
   "cell_type": "markdown",
   "metadata": {},
   "source": [
    "## Loops em Dicionários"
   ]
  },
  {
   "cell_type": "code",
   "execution_count": null,
   "metadata": {
    "colab": {},
    "colab_type": "code",
    "id": "f8Ad6N2tfH9Q"
   },
   "outputs": [],
   "source": [
    "# repita duas coisas ao mesmo tempo (usando a descompactação da tupla)\n",
    "family = {'pai':'homer', 'mae':'marge', 'size': 6}\n",
    "\n",
    "for key, value in family.items():\n",
    "    print(key, value)"
   ]
  },
  {
   "cell_type": "markdown",
   "metadata": {
    "colab_type": "text",
    "id": "G-qetSl0VmVz"
   },
   "source": [
    "# While Loops\n",
    "\n",
    "O **loop while** continuará em *loop* até que sua expressão condicional seja avaliada como *False*.\n",
    "\n",
    "Nota: É possível \"repetir para sempre\" ao usar um **loop while** com uma expressão condicional que nunca é avaliada como *False*.\n",
    "\n",
    "Nota: Como o *loop* for iterará sobre um contêiner de itens até que não haja mais, não há necessidade de especificar uma condição *stop looping*."
   ]
  },
  {
   "cell_type": "code",
   "execution_count": null,
   "metadata": {
    "colab": {},
    "colab_type": "code",
    "id": "-57sDYXai1-1"
   },
   "outputs": [],
   "source": [
    "count = 0\n",
    "while count < 5:\n",
    "    print('Vai imprimi isso 5 vezes')\n",
    "    count += 1    # equivalente ao incremento de 'count = count + 1'"
   ]
  },
  {
   "cell_type": "markdown",
   "metadata": {
    "colab_type": "text",
    "id": "KashiWMclLIJ"
   },
   "source": [
    "# Compactação\n",
    "lista de compactação"
   ]
  },
  {
   "cell_type": "code",
   "execution_count": null,
   "metadata": {
    "colab": {},
    "colab_type": "code",
    "id": "FaUyp4dKpkCo"
   },
   "outputs": [],
   "source": [
    "# for para criar a lista de cubos\n",
    "nums = [1, 2, 3, 4, 5]\n",
    "cubos = []\n",
    "for num in nums:\n",
    "    cubos.append(num**3)\n",
    "cubos"
   ]
  },
  {
   "cell_type": "code",
   "execution_count": null,
   "metadata": {
    "colab": {},
    "colab_type": "code",
    "id": "_qpwvBjTkbcM"
   },
   "outputs": [],
   "source": [
    "# lista equivalente de compactação\n",
    "cubos = [num**3 for num in nums]\n",
    "cubos"
   ]
  },
  {
   "cell_type": "code",
   "execution_count": null,
   "metadata": {
    "colab": {},
    "colab_type": "code",
    "id": "pr8c7SW1kfVG"
   },
   "outputs": [],
   "source": [
    "# for para criar uma lista de cubos de números pares\n",
    "cubos_de_pares = []\n",
    "for num in nums:\n",
    "    if num % 2 == 0:\n",
    "        cubos_de_pares.append(num**3)\n",
    "cubos_de_pares"
   ]
  },
  {
   "cell_type": "code",
   "execution_count": null,
   "metadata": {
    "colab": {},
    "colab_type": "code",
    "id": "9B4V0CwilDbw"
   },
   "outputs": [],
   "source": [
    "# sintaxe: [expressão para variável em condição iterável se]\n",
    "cubos_de_pares = [num**3 for num in nums if num % 2 == 0]\n",
    "cubos_de_pares"
   ]
  },
  {
   "cell_type": "code",
   "execution_count": null,
   "metadata": {
    "colab": {},
    "colab_type": "code",
    "id": "GU3vrERwqbZV"
   },
   "outputs": [],
   "source": [
    "# for para cubos números pares e números ímpares quadrados\n",
    "cubos_e_squares = []\n",
    "for num in nums:\n",
    "    if num % 2 == 0:\n",
    "        cubos_e_squares.append(num**3)\n",
    "    else:\n",
    "        cubos_e_squares.append(num**2)\n",
    "cubos_e_squares"
   ]
  },
  {
   "cell_type": "markdown",
   "metadata": {
    "colab_type": "text",
    "id": "j8enLPiSrCkC"
   },
   "source": [
    "# List Comprehension"
   ]
  },
  {
   "cell_type": "code",
   "execution_count": null,
   "metadata": {
    "colab": {},
    "colab_type": "code",
    "id": "MnGBDyfsrDDE"
   },
   "outputs": [],
   "source": [
    "frutas = ['maca', 'banana', 'manga']\n",
    "unique_lengths = {len(fruta) for fruta in frutas}\n",
    "unique_lengths"
   ]
  },
  {
   "cell_type": "markdown",
   "metadata": {
    "colab_type": "text",
    "id": "Db_dxAmUrIYB"
   },
   "source": [
    "# Dict Comprehension (Python3)"
   ]
  },
  {
   "cell_type": "code",
   "execution_count": null,
   "metadata": {
    "colab": {},
    "colab_type": "code",
    "id": "gmp1pvkErc19"
   },
   "outputs": [],
   "source": [
    "fruta_lengths = {fruta: len(fruta) for fruta in frutas}\n",
    "fruta_lengths"
   ]
  },
  {
   "cell_type": "code",
   "execution_count": null,
   "metadata": {
    "colab": {},
    "colab_type": "code",
    "id": "bxoOYvfUrpEt"
   },
   "outputs": [],
   "source": [
    "fruta_indice = {fruta: index for index, fruta in enumerate(frutas)}\n",
    "fruta_indice"
   ]
  }
 ],
 "metadata": {
  "colab": {
   "authorship_tag": "ABX9TyOy/mahXwL/0EUr0/L6KMZE",
   "name": "Iterações.ipynb",
   "provenance": []
  },
  "kernelspec": {
   "display_name": "Python 3",
   "language": "python",
   "name": "python3"
  },
  "language_info": {
   "codemirror_mode": {
    "name": "ipython",
    "version": 3
   },
   "file_extension": ".py",
   "mimetype": "text/x-python",
   "name": "python",
   "nbconvert_exporter": "python",
   "pygments_lexer": "ipython3",
   "version": "3.7.7"
  }
 },
 "nbformat": 4,
 "nbformat_minor": 1
}
