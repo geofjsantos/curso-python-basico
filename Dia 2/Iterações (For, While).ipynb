{
 "cells": [
  {
   "cell_type": "markdown",
   "metadata": {
    "colab_type": "text",
    "id": "WSvod0hsVe-g"
   },
   "source": [
    "# For Loops\n",
    "É fácil iterar sobre uma coleção de itens usando um loop for. As strings, listas, tuplas, conjuntos e dicionários que definimos são todos contêineres iteráveis.\n",
    "\n",
    "O loop for percorrerá o contêiner especificado, um item de cada vez, e fornecerá uma variável temporária para o item atual. Você pode usar essa variável temporária como uma variável normal."
   ]
  },
  {
   "cell_type": "code",
   "execution_count": 1,
   "metadata": {},
   "outputs": [],
   "source": [
    "frutas = ['maçã', 'banana', 'manga']"
   ]
  },
  {
   "cell_type": "code",
   "execution_count": 2,
   "metadata": {
    "colab": {},
    "colab_type": "code",
    "id": "4VpI1KtMfDul"
   },
   "outputs": [
    {
     "name": "stdout",
     "output_type": "stream",
     "text": [
      "MAÇÃ\n",
      "BANANA\n",
      "MANGA\n"
     ]
    }
   ],
   "source": [
    "# For..IN\n",
    "for fruta in frutas:\n",
    "    # Fruta é uma variável local\n",
    "    print(fruta.upper())"
   ]
  },
  {
   "cell_type": "code",
   "execution_count": 5,
   "metadata": {},
   "outputs": [
    {
     "name": "stdout",
     "output_type": "stream",
     "text": [
      "C\n",
      "a\n",
      "r\n",
      "l\n",
      "o\n",
      "s\n",
      " \n",
      "M\n",
      "o\n",
      "t\n",
      "a\n"
     ]
    }
   ],
   "source": [
    "nome = \"Carlos Mota\"\n",
    "\n",
    "for letra in nome:\n",
    "    print(letra)"
   ]
  },
  {
   "cell_type": "code",
   "execution_count": 7,
   "metadata": {},
   "outputs": [
    {
     "data": {
      "text/plain": [
       "[0, 1, 2, 3, 4, 5, 6, 7, 8, 9]"
      ]
     },
     "execution_count": 7,
     "metadata": {},
     "output_type": "execute_result"
    }
   ],
   "source": [
    "# len retorna a quantidade de elementos de um iterável\n",
    "#len(frutas)\n",
    "#len(nome)\n",
    "\n",
    "# Range -> Gerador de lista a partir de um comprimento ou de inicio/fim/passo\n",
    "list(range(10))   # Python3"
   ]
  },
  {
   "cell_type": "code",
   "execution_count": 9,
   "metadata": {
    "colab": {},
    "colab_type": "code",
    "id": "6fLWw72aeWWl"
   },
   "outputs": [
    {
     "name": "stdout",
     "output_type": "stream",
     "text": [
      "0 -> MAÇÃ\n",
      "1 -> BANANA\n",
      "2 -> MANGA\n"
     ]
    }
   ],
   "source": [
    "# Iteração sobre os índices\n",
    "for i in range(len(frutas)):\n",
    "    print(str(i) + \" -> \" + frutas[i].upper())"
   ]
  },
  {
   "cell_type": "markdown",
   "metadata": {},
   "source": [
    "## Descompactação de variáveis"
   ]
  },
  {
   "cell_type": "code",
   "execution_count": 10,
   "metadata": {},
   "outputs": [
    {
     "name": "stdout",
     "output_type": "stream",
     "text": [
      "(10, 'bola', 2.5)\n",
      "10\n",
      "bola\n",
      "2.5\n"
     ]
    }
   ],
   "source": [
    "# Colocar na seção de coleções\n",
    "tupla1 = (10, \"bola\", 2.5)\n",
    "print(tupla1)\n",
    "\n",
    "# Descompcatação de coleções (lista e tupla)\n",
    "# A quantidade variáveis tem que ser igual a quantidade de itens da coleção\n",
    "quantidade, item, valor = tupla1\n",
    "\n",
    "print(quantidade)\n",
    "print(item)\n",
    "print(valor)"
   ]
  },
  {
   "cell_type": "code",
   "execution_count": 11,
   "metadata": {},
   "outputs": [
    {
     "data": {
      "text/plain": [
       "[(0, 'maçã'), (1, 'banana'), (2, 'manga')]"
      ]
     },
     "execution_count": 11,
     "metadata": {},
     "output_type": "execute_result"
    }
   ],
   "source": [
    "list(enumerate(frutas))"
   ]
  },
  {
   "cell_type": "code",
   "execution_count": 12,
   "metadata": {
    "colab": {},
    "colab_type": "code",
    "id": "_TYJ-FT0fXa3",
    "scrolled": true
   },
   "outputs": [
    {
     "name": "stdout",
     "output_type": "stream",
     "text": [
      "Indice: 0, Valor: maçã\n",
      "Indice: 1, Valor: banana\n",
      "Indice: 2, Valor: manga\n",
      "Indice: 0, Valor: maçã\n",
      "Indice: 1, Valor: banana\n",
      "Indice: 2, Valor: manga\n"
     ]
    }
   ],
   "source": [
    "# Emumerate devolve uma lista de tuplas onde o primeiro item da tupla é o indice corrrespondente\n",
    "# e o segundo item da tupla, o valor correspondente ao item da lista\n",
    "#\n",
    "# list(enumerate(frutas))\n",
    "\n",
    "#use enumerate se precisar acessar o valor do índice dentro do loop\n",
    "# Simple\n",
    "for index, fruta in enumerate(frutas):\n",
    "    print(\"Indice: \" + str(index) + \", Valor: \" + fruta)\n",
    "\n",
    "# Usando range\n",
    "# Complex\n",
    "for index in range(len(frutas)):\n",
    "    print(\"Indice: \" + str(index) + \", Valor: \" + frutas[index])"
   ]
  },
  {
   "cell_type": "markdown",
   "metadata": {},
   "source": [
    "# Quebra de loop (Break, Continue)"
   ]
  },
  {
   "cell_type": "code",
   "execution_count": 13,
   "metadata": {
    "colab": {},
    "colab_type": "code",
    "id": "go5gwzAhhfFc"
   },
   "outputs": [
    {
     "name": "stdout",
     "output_type": "stream",
     "text": [
      "não encontrei a banana\n",
      "Encontrei a banana!\n"
     ]
    }
   ],
   "source": [
    "for fruta in frutas:\n",
    "    if fruta == 'banana':\n",
    "        print('Encontrei a banana!')\n",
    "        break # sai do loop e pula o bloco 'else'\n",
    "    else:\n",
    "        # este bloco executa SOMENTE se o loop for for concluído sem pressionar 'break'\n",
    "        print(\"não encontrei a banana\")"
   ]
  },
  {
   "cell_type": "code",
   "execution_count": 16,
   "metadata": {},
   "outputs": [
    {
     "name": "stdout",
     "output_type": "stream",
     "text": [
      "procurando a banana, achei maçã\n",
      "Encontrei a banana!\n",
      "procurando a banana, achei manga\n"
     ]
    }
   ],
   "source": [
    "for fruta in frutas:\n",
    "    if fruta == 'banana':\n",
    "        print('Encontrei a banana!')\n",
    "        # break\n",
    "        continue\n",
    "\n",
    "    print(\"procurando a banana, achei \" + fruta)"
   ]
  },
  {
   "cell_type": "markdown",
   "metadata": {},
   "source": [
    "## Loops em Dicionários"
   ]
  },
  {
   "cell_type": "code",
   "execution_count": 17,
   "metadata": {
    "colab": {},
    "colab_type": "code",
    "id": "f8Ad6N2tfH9Q"
   },
   "outputs": [
    {
     "name": "stdout",
     "output_type": "stream",
     "text": [
      "pai homer\n",
      "mae marge\n",
      "size 6\n"
     ]
    }
   ],
   "source": [
    "# repita duas coisas ao mesmo tempo (usando a descompactação da tupla)\n",
    "family = {'pai':'homer', 'mae':'marge', 'size': 6}\n",
    "\n",
    "for key, value in family.items():\n",
    "    print(key, value)"
   ]
  },
  {
   "cell_type": "markdown",
   "metadata": {
    "colab_type": "text",
    "id": "G-qetSl0VmVz"
   },
   "source": [
    "# While Loops\n",
    "\n",
    "O **loop while** continuará em *loop* até que sua expressão condicional seja avaliada como *False*.\n",
    "\n",
    "Nota: É possível \"repetir para sempre\" ao usar um **loop while** com uma expressão condicional que nunca é avaliada como *False*.\n",
    "\n",
    "Nota: Como o *loop* for iterará sobre um contêiner de itens até que não haja mais, não há necessidade de especificar uma condição *stop looping*."
   ]
  },
  {
   "cell_type": "code",
   "execution_count": 18,
   "metadata": {
    "colab": {},
    "colab_type": "code",
    "id": "-57sDYXai1-1"
   },
   "outputs": [
    {
     "name": "stdout",
     "output_type": "stream",
     "text": [
      "Vai imprimir isso 5 vezes\n",
      "Vai imprimir isso 5 vezes\n",
      "Vai imprimir isso 5 vezes\n",
      "Vai imprimir isso 5 vezes\n",
      "Vai imprimir isso 5 vezes\n"
     ]
    }
   ],
   "source": [
    "count = 0\n",
    "\n",
    "while count < 5:\n",
    "    print('Vai imprimir isso 5 vezes')\n",
    "    # count += 1    # equivalente ao incremento de 'count = count + 1'\n",
    "\n",
    "    count = count + 1\n"
   ]
  },
  {
   "cell_type": "code",
   "execution_count": 21,
   "metadata": {
    "pycharm": {
     "name": "#%%\n"
    }
   },
   "outputs": [
    {
     "name": "stdout",
     "output_type": "stream",
     "text": [
      "Estou imprimindo indefinidamente\n",
      "Estou imprimindo indefinidamente\n",
      "Estou imprimindo indefinidamente\n",
      "Estou imprimindo indefinidamente\n",
      "Estou imprimindo indefinidamente\n",
      "Estou imprimindo indefinidamente\n",
      "Já imprimi 6 vezes\n"
     ]
    }
   ],
   "source": [
    "count = 0\n",
    "\n",
    "while True:\n",
    "    print('Estou imprimindo indefinidamente')\n",
    "\n",
    "    if count >= 5:\n",
    "        print(\"Já imprimi \" + str(count + 1) + \" vezes\")\n",
    "        break\n",
    "\n",
    "    count = count + 1\n"
   ]
  }
 ],
 "metadata": {
  "colab": {
   "authorship_tag": "ABX9TyOy/mahXwL/0EUr0/L6KMZE",
   "name": "Iterações.ipynb",
   "provenance": []
  },
  "kernelspec": {
   "display_name": "Python 3",
   "language": "python",
   "name": "python3"
  },
  "language_info": {
   "codemirror_mode": {
    "name": "ipython",
    "version": 3
   },
   "file_extension": ".py",
   "mimetype": "text/x-python",
   "name": "python",
   "nbconvert_exporter": "python",
   "pygments_lexer": "ipython3",
   "version": "3.7.7"
  }
 },
 "nbformat": 4,
 "nbformat_minor": 1
}