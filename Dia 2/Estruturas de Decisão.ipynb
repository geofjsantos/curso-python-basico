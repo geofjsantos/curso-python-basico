{
 "cells": [
  {
   "cell_type": "markdown",
   "metadata": {},
   "source": [
    "# Controle de Fluxo: Estruturas de Decisão\n",
    "\n",
    "A instrução **if** permite testar uma condição e executar algumas ações se a condição for avaliada como *True*. Você também pode fornecer cláusulas **elif** e/ou **else** a uma instrução **if** para executar ações alternativas se a condição for avaliada como *False*."
   ]
  },
  {
   "cell_type": "markdown",
   "metadata": {},
   "source": [
    "## Condicional IF\n",
    "\n",
    "![alt text](https://codifyshow.com/wp-content/uploads/2020/04/flowchart-of-if.jpg \"if statement\")"
   ]
  },
  {
   "cell_type": "code",
   "execution_count": null,
   "metadata": {},
   "outputs": [],
   "source": [
    "x = -5\n",
    "\n",
    "if x > 0:\n",
    "    print(\"Positive\")"
   ]
  },
  {
   "cell_type": "markdown",
   "metadata": {},
   "source": [
    "## Condicional IF..ELSE\n",
    "\n",
    "![alt text](https://codifyshow.com/wp-content/uploads/2020/04/if-else.jpg \"if else statement\")"
   ]
  },
  {
   "cell_type": "code",
   "execution_count": null,
   "metadata": {},
   "outputs": [],
   "source": [
    "x = -5\n",
    "\n",
    "if x > 0:\n",
    "    print('positive')\n",
    "else:\n",
    "    print('zero or negative')"
   ]
  },
  {
   "cell_type": "markdown",
   "metadata": {},
   "source": [
    "### Variáveis condicionais"
   ]
  },
  {
   "cell_type": "code",
   "execution_count": null,
   "metadata": {},
   "outputs": [],
   "source": [
    "x = -10\n",
    "\n",
    "result = 'positive' if x > 0 else 'zero or negative'"
   ]
  },
  {
   "cell_type": "markdown",
   "metadata": {},
   "source": [
    "## Condicional IF..ELIF..ELSE\n",
    "\n",
    "![alt text](https://codifyshow.com/wp-content/uploads/2020/04/elif-1024x672.jpg \"if elif else statement\")"
   ]
  },
  {
   "cell_type": "code",
   "execution_count": null,
   "metadata": {},
   "outputs": [],
   "source": [
    "x = 0\n",
    "\n",
    "if x > 0:\n",
    "    print('positive')\n",
    "    \n",
    "elif x == 0:\n",
    "    print('zero')\n",
    "    \n",
    "else:\n",
    "    print('negative')"
   ]
  },
  {
   "cell_type": "markdown",
   "metadata": {},
   "source": [
    "## Qualquer estrutura de decisão pode ser aninhada"
   ]
  },
  {
   "cell_type": "code",
   "execution_count": null,
   "metadata": {},
   "outputs": [],
   "source": [
    "x = 60\n",
    "\n",
    "if x > 10:\n",
    "    print(\"Acima de 10\").\n",
    "    \n",
    "    if x > 20:\n",
    "        print(\"Acima de 20\")\n",
    "    else:\n",
    "        print(\"Abaixo de 20\")"
   ]
  },
  {
   "cell_type": "markdown",
   "metadata": {},
   "source": [
    "## A palavra chave *pass*"
   ]
  },
  {
   "cell_type": "code",
   "execution_count": null,
   "metadata": {},
   "outputs": [],
   "source": [
    "x = 60\n",
    "\n",
    "if x > 10:\n",
    "    print(\"Acima de 10\").\n",
    "    \n",
    "    if x > 20:\n",
    "        print(\"Acima de 20\")\n",
    "        \n",
    "    elif x == 15:\n",
    "        print(\"É 15\")\n",
    "        \n",
    "    else:\n",
    "        pass"
   ]
  },
  {
   "cell_type": "markdown",
   "metadata": {},
   "source": [
    "## *Exercício:* Aprimorar a fórmula de NDVI: \n",
    "\n",
    "- Armazenar os valores de IR e NIR em variáveis \n",
    "- Guardar o resultado da fórmula em outra variável. \n",
    "- Classificar a partir de range de valores: -1, -0.5, 0, 0.5, 1\n",
    "- Mandar imprimir apenas a maior classe\n",
    "\n",
    "Referência: http://www.engesat.com.br/softwares/global-mapper/calculo-do-indice-de-vegetacao-ndvi-no-global-mapper/"
   ]
  },
  {
   "cell_type": "code",
   "execution_count": null,
   "metadata": {},
   "outputs": [],
   "source": []
  }
 ],
 "metadata": {
  "kernelspec": {
   "display_name": "Python 3",
   "language": "python",
   "name": "python3"
  },
  "language_info": {
   "codemirror_mode": {
    "name": "ipython",
    "version": 3
   },
   "file_extension": ".py",
   "mimetype": "text/x-python",
   "name": "python",
   "nbconvert_exporter": "python",
   "pygments_lexer": "ipython3",
   "version": "3.7.7"
  }
 },
 "nbformat": 4,
 "nbformat_minor": 4
}
