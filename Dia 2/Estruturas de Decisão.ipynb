{
 "cells": [
  {
   "cell_type": "markdown",
   "metadata": {},
   "source": [
    "# Controle de Fluxo: Estruturas de Decisão\n",
    "\n",
    "A instrução **if** permite testar uma condição e executar algumas ações se a condição for avaliada como *True*. Você também pode fornecer cláusulas **elif** e/ou **else** a uma instrução **if** para executar ações alternativas se a condição for avaliada como *False*."
   ]
  },
  {
   "cell_type": "markdown",
   "metadata": {},
   "source": [
    "## Condicional IF\n",
    "\n",
    "![alt text](https://codifyshow.com/wp-content/uploads/2020/04/flowchart-of-if.jpg \"if statement\")"
   ]
  },
  {
   "cell_type": "code",
   "execution_count": 1,
   "metadata": {},
   "outputs": [
    {
     "name": "stdout",
     "output_type": "stream",
     "text": [
      "Positive\n"
     ]
    }
   ],
   "source": [
    "x = 5\n",
    "\n",
    "if x > 0:\n",
    "    print(\"Positive\")"
   ]
  },
  {
   "cell_type": "markdown",
   "metadata": {},
   "source": [
    "## Condicional IF..ELSE\n",
    "\n",
    "![alt text](https://codifyshow.com/wp-content/uploads/2020/04/if-else.jpg \"if else statement\")"
   ]
  },
  {
   "cell_type": "code",
   "execution_count": 2,
   "metadata": {},
   "outputs": [
    {
     "name": "stdout",
     "output_type": "stream",
     "text": [
      "positive\n"
     ]
    }
   ],
   "source": [
    "x = 5\n",
    "\n",
    "if x > 0:\n",
    "    print('positive')    \n",
    "else:\n",
    "    print('zero or negative')"
   ]
  },
  {
   "cell_type": "markdown",
   "metadata": {},
   "source": [
    "### Variáveis condicionais"
   ]
  },
  {
   "cell_type": "code",
   "execution_count": 4,
   "metadata": {},
   "outputs": [
    {
     "name": "stdout",
     "output_type": "stream",
     "text": [
      "positive\n"
     ]
    }
   ],
   "source": [
    "x = 10\n",
    "\n",
    "result = 'positive' if x > 0 else 'zero or negative'\n",
    "print(result)"
   ]
  },
  {
   "cell_type": "markdown",
   "metadata": {},
   "source": [
    "## Condicional IF..ELIF..ELSE\n",
    "\n",
    "![alt text](https://codifyshow.com/wp-content/uploads/2020/04/elif-1024x672.jpg \"if elif else statement\")"
   ]
  },
  {
   "cell_type": "code",
   "execution_count": 6,
   "metadata": {},
   "outputs": [
    {
     "name": "stdout",
     "output_type": "stream",
     "text": [
      "positive\n"
     ]
    }
   ],
   "source": [
    "x = 68\n",
    "\n",
    "if x > 0:\n",
    "    print('positive')\n",
    "    \n",
    "elif x == 0:\n",
    "    print('zero')\n",
    "    \n",
    "else:\n",
    "    print('negative')"
   ]
  },
  {
   "cell_type": "code",
   "execution_count": 11,
   "metadata": {},
   "outputs": [
    {
     "ename": "SyntaxError",
     "evalue": "invalid syntax (<ipython-input-11-6532c5b3ec57>, line 6)",
     "output_type": "error",
     "traceback": [
      "\u001b[0;36m  File \u001b[0;32m\"<ipython-input-11-6532c5b3ec57>\"\u001b[0;36m, line \u001b[0;32m6\u001b[0m\n\u001b[0;31m    elif x < 0:\u001b[0m\n\u001b[0m       ^\u001b[0m\n\u001b[0;31mSyntaxError\u001b[0m\u001b[0;31m:\u001b[0m invalid syntax\n"
     ]
    }
   ],
   "source": [
    "x = 67\n",
    "\n",
    "if x >= 0 and x % 2 == 0:\n",
    "    print('positive and even')\n",
    "    \n",
    "    if\n",
    "    elif x < 0:\n",
    "        print('negative')\n",
    "    \n",
    "else:\n",
    "    print('others')"
   ]
  },
  {
   "cell_type": "markdown",
   "metadata": {},
   "source": [
    "## Qualquer estrutura de decisão pode ser aninhada"
   ]
  },
  {
   "cell_type": "code",
   "execution_count": null,
   "metadata": {},
   "outputs": [],
   "source": [
    "x = 5\n",
    "\n",
    "if x > 10:\n",
    "    print(\"Acima de 10\")\n",
    "    \n",
    "    if x > 20:\n",
    "        print(\"Acima de 20\")\n",
    "    else:\n",
    "        print(\"Abaixo de 20\")"
   ]
  },
  {
   "cell_type": "markdown",
   "metadata": {},
   "source": [
    "## A palavra chave *pass*"
   ]
  },
  {
   "cell_type": "code",
   "execution_count": 16,
   "metadata": {},
   "outputs": [
    {
     "name": "stdout",
     "output_type": "stream",
     "text": [
      "Acima de 10\n"
     ]
    }
   ],
   "source": [
    "x = 11\n",
    "\n",
    "if x > 10:\n",
    "    print(\"Acima de 10\")\n",
    "    \n",
    "    if x > 20:\n",
    "        print(\"Acima de 20\")\n",
    "        \n",
    "    elif x == 15:\n",
    "        print(\"É 15\")\n",
    "        \n",
    "    else:\n",
    "        pass"
   ]
  },
  {
   "cell_type": "markdown",
   "metadata": {},
   "source": [
    "## *Exercício:* Aprimorar a fórmula de NDVI: \n",
    "\n",
    "- Armazenar os valores de R e NIR em variáveis \n",
    "- Guardar o resultado da fórmula em outra variável. \n",
    "- Classificar a partir de range de valores: -1, -0.5, 0, 0.5, 1 (Nomear as classses)\n",
    "- Mandar imprimir o valor e a classe correspondente\n",
    "\n",
    "Referência: http://www.engesat.com.br/softwares/global-mapper/calculo-do-indice-de-vegetacao-ndvi-no-global-mapper/"
   ]
  },
  {
   "cell_type": "code",
   "execution_count": null,
   "metadata": {},
   "outputs": [],
   "source": []
  }
 ],
 "metadata": {
  "kernelspec": {
   "display_name": "Python 3",
   "language": "python",
   "name": "python3"
  },
  "language_info": {
   "codemirror_mode": {
    "name": "ipython",
    "version": 3
   },
   "file_extension": ".py",
   "mimetype": "text/x-python",
   "name": "python",
   "nbconvert_exporter": "python",
   "pygments_lexer": "ipython3",
   "version": "3.7.7"
  }
 },
 "nbformat": 4,
 "nbformat_minor": 4
}
