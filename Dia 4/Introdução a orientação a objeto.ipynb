{
 "cells": [
  {
   "cell_type": "markdown",
   "metadata": {},
   "source": [
    "# Introdução a Programação Orientada a Objeto"
   ]
  },
  {
   "cell_type": "markdown",
   "metadata": {},
   "source": [
    "### Conceito de classe e objeto"
   ]
  },
  {
   "cell_type": "code",
   "execution_count": null,
   "metadata": {},
   "outputs": [],
   "source": [
    "from datetime import datetime\n",
    "\n",
    "class Pessoa:     \n",
    "    def __init__(self, nome, sobrenome, data_nascimento):\n",
    "        self.nome = nome\n",
    "        self.sobrenome = sobrenome\n",
    "        self.data_nascimento = data_nascimento\n",
    "        self.data_admissao = datetime.now()\n",
    "        \n",
    "    def __str__(self):\n",
    "        return self.get_nome_completo()\n",
    "        \n",
    "    def get_nome_completo(self):\n",
    "        return \"{nome} {sobrenome}\".format(nome=self.nome, sobrenome=self.sobrenome)\n",
    "    \n",
    "    def get_idade(self):\n",
    "        return (datetime.now() - self.data_nascimento).days // 365\n",
    "    \n",
    "    def get_data_admissao(self):\n",
    "        # Formatos de data em https://docs.python.org/3/library/datetime.html#strftime-and-strptime-format-codes\n",
    "        return self.data_admissao.strftime('%d/%m/%Y')"
   ]
  },
  {
   "cell_type": "markdown",
   "metadata": {},
   "source": [
    "## Objeto -> Instância de uma classe"
   ]
  },
  {
   "cell_type": "code",
   "execution_count": null,
   "metadata": {
    "scrolled": true
   },
   "outputs": [],
   "source": [
    "pessoa = Pessoa(\"Carlos\", \"Mota\", datetime(1983, 5, 15)) # Implicitamente, é chamado a função __init__"
   ]
  },
  {
   "cell_type": "markdown",
   "metadata": {},
   "source": [
    "###  Propriedades do objeto"
   ]
  },
  {
   "cell_type": "code",
   "execution_count": null,
   "metadata": {
    "scrolled": false
   },
   "outputs": [],
   "source": [
    "print(pessoa.nome)\n",
    "print(pessoa.sobrenome)\n",
    "print(pessoa)"
   ]
  },
  {
   "cell_type": "code",
   "execution_count": null,
   "metadata": {},
   "outputs": [],
   "source": [
    "pessoa.nome = \"Paulo\"\n",
    "pessoa.sobrenome = \"Santos\"\n",
    "print(pessoa)"
   ]
  },
  {
   "cell_type": "markdown",
   "metadata": {},
   "source": [
    "### métodos do objeto"
   ]
  },
  {
   "cell_type": "code",
   "execution_count": null,
   "metadata": {},
   "outputs": [],
   "source": [
    "print(pessoa.get_nome_completo())\n",
    "print(pessoa.get_idade())\n",
    "print(pessoa.get_data_admissao())"
   ]
  },
  {
   "cell_type": "markdown",
   "metadata": {},
   "source": [
    "# Herança de classes"
   ]
  },
  {
   "cell_type": "code",
   "execution_count": null,
   "metadata": {},
   "outputs": [],
   "source": [
    "class Pesquidador(Pessoa):\n",
    "    cargo = 'Pesquisador em Geociências'\n",
    "    \n",
    "class Analista(Pessoa):\n",
    "    cargo = 'Analista em Geociências'"
   ]
  },
  {
   "cell_type": "code",
   "execution_count": null,
   "metadata": {},
   "outputs": [],
   "source": [
    "analista = Analista(\"José\", \"Silva\", datetime(1990, 1, 12))"
   ]
  },
  {
   "cell_type": "code",
   "execution_count": null,
   "metadata": {},
   "outputs": [],
   "source": [
    "analista.get_nome_completo()"
   ]
  },
  {
   "cell_type": "code",
   "execution_count": null,
   "metadata": {},
   "outputs": [],
   "source": [
    "print(pessoa.cargo)"
   ]
  },
  {
   "cell_type": "code",
   "execution_count": null,
   "metadata": {},
   "outputs": [],
   "source": [
    "print(analista.cargo)"
   ]
  },
  {
   "cell_type": "markdown",
   "metadata": {},
   "source": [
    "# Polimorfismo"
   ]
  },
  {
   "cell_type": "code",
   "execution_count": null,
   "metadata": {},
   "outputs": [],
   "source": [
    "class Estagiario(Pessoa):\n",
    "    def get_data_admissao(self):\n",
    "        # Formatos de data em https://docs.python.org/3/library/datetime.html#strftime-and-strptime-format-codes\n",
    "        return self.data_admissao.strftime('%c')\n",
    "    \n",
    "class Temporario(Pessoa):        \n",
    "    def get_data_admissao(self):\n",
    "        data_admissao = super().get_data_admissao()\n",
    "        \n",
    "        return f\"[Temporário] {data_admissao}\""
   ]
  },
  {
   "cell_type": "code",
   "execution_count": null,
   "metadata": {},
   "outputs": [],
   "source": [
    "est = Estagiario(\"Pedro\", \"Mota\", datetime(1995, 12, 14))\n",
    "est.data_admissao = datetime(2018, 10, 10)\n",
    "print(est.get_data_admissao())"
   ]
  },
  {
   "cell_type": "code",
   "execution_count": null,
   "metadata": {},
   "outputs": [],
   "source": [
    "tmp = Temporario(\"José\", \"Oliveira\", datetime(1997, 7, 22))\n",
    "tmp.data_admissao = datetime(2019, 7, 1)\n",
    "print(tmp.get_data_admissao())"
   ]
  },
  {
   "cell_type": "markdown",
   "metadata": {},
   "source": [
    "### É possível modificar até a função __init__ da classe"
   ]
  },
  {
   "cell_type": "code",
   "execution_count": null,
   "metadata": {},
   "outputs": [],
   "source": [
    "class Terceirizado(Pessoa):     \n",
    "    def __init__(self, nome, sobrenome, data_nascimento, empresa):\n",
    "        super().__init__(nome, sobrenome, data_nascimento)\n",
    "        \n",
    "        self.empresa = empresa\n",
    "        \n",
    "    def __str__(self):\n",
    "        return self.get_nome_completo() + \"; Empresa: \" + self.empresa"
   ]
  },
  {
   "cell_type": "code",
   "execution_count": null,
   "metadata": {},
   "outputs": [],
   "source": [
    "terc = Terceirizado(\"Antonio\", \"Silva\", datetime(1985, 2, 14), \"SYZ Ltda\")\n",
    "print(terc)"
   ]
  }
 ],
 "metadata": {
  "kernelspec": {
   "display_name": "Python 3",
   "language": "python",
   "name": "python3"
  },
  "language_info": {
   "codemirror_mode": {
    "name": "ipython",
    "version": 3
   },
   "file_extension": ".py",
   "mimetype": "text/x-python",
   "name": "python",
   "nbconvert_exporter": "python",
   "pygments_lexer": "ipython3",
   "version": "3.7.7"
  }
 },
 "nbformat": 4,
 "nbformat_minor": 4
}
