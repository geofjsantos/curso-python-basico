{
 "cells": [
  {
   "cell_type": "markdown",
   "metadata": {},
   "source": [
    "# Introdução a Programação Orientada a Objeto"
   ]
  },
  {
   "cell_type": "markdown",
   "metadata": {},
   "source": [
    "### Conceito de classe e objeto"
   ]
  },
  {
   "cell_type": "code",
   "execution_count": 16,
   "metadata": {},
   "outputs": [
    {
     "data": {
      "text/plain": [
       "b'\\x00\\x00\\x00\\x00d'"
      ]
     },
     "execution_count": 16,
     "metadata": {},
     "output_type": "execute_result"
    }
   ],
   "source": [
    "val = 100\n",
    "\n",
    "val.to_bytes(5, 'big')\n",
    "\n",
    "\n",
    "# A função dir() retorna todas as propriedades e métodos da classe/objeto\n",
    "#dir(val)"
   ]
  },
  {
   "cell_type": "code",
   "execution_count": 45,
   "metadata": {},
   "outputs": [],
   "source": [
    "from datetime import datetime\n",
    "\n",
    "\n",
    "# CamelCase   -> classe\n",
    "# snake_case  -> função/metodo\n",
    "class Pessoa:\n",
    "    \"\"\"\n",
    "    Classe Pessoa\n",
    "    \"\"\"\n",
    "    # propriedade no domínio da classe\n",
    "    nacionalidade = 'Brasileira'\n",
    "    \n",
    "    # método construtor\n",
    "    # Argumento \"self\" -> É o proprio objeto instanciado\n",
    "    def __init__(self, nome, sobrenome, data_nascimento):\n",
    "        self.nome = nome\n",
    "        self.sobrenome = sobrenome\n",
    "        self.data_nascimento = data_nascimento\n",
    "        self.data_admissao = datetime.now()\n",
    "        \n",
    "    def __str__(self):\n",
    "        return self.obter_nome_completo()\n",
    "        \n",
    "    def obter_nome_completo(self):\n",
    "        return \"{nome} {sobrenome}\".format(nome=self.nome, sobrenome=self.sobrenome)\n",
    "    \n",
    "    def get_idade(self):\n",
    "        return (datetime.now() - self.data_nascimento).days // 365\n",
    "    \n",
    "    def get_data_admissao(self, formato):\n",
    "        # Formatos de data em https://docs.python.org/3/library/datetime.html#strftime-and-strptime-format-codes\n",
    "        return self.data_admissao.strftime(formato)"
   ]
  },
  {
   "cell_type": "code",
   "execution_count": 48,
   "metadata": {},
   "outputs": [
    {
     "data": {
      "text/plain": [
       "'Thu Sep  3 16:33:15 2020'"
      ]
     },
     "execution_count": 48,
     "metadata": {},
     "output_type": "execute_result"
    }
   ],
   "source": [
    "#print(Pessoa.nome) \n",
    "\n",
    "\n",
    "pessoa = Pessoa(\"Carlos\", \"Mota\", datetime(1983, 5, 15))\n",
    "\n",
    "\n",
    "#pessoa.nome = 'Pedro'\n",
    "pessoa.get_data_admissao('%c')"
   ]
  },
  {
   "cell_type": "markdown",
   "metadata": {},
   "source": [
    "## Objeto -> Instância de uma classe"
   ]
  },
  {
   "cell_type": "code",
   "execution_count": 49,
   "metadata": {
    "scrolled": true
   },
   "outputs": [],
   "source": [
    "pessoa = Pessoa(\"Carlos\", \"Mota\", datetime(1983, 5, 15)) # Implicitamente, é chamado a função __init__"
   ]
  },
  {
   "cell_type": "markdown",
   "metadata": {},
   "source": [
    "###  Propriedades do objeto"
   ]
  },
  {
   "cell_type": "code",
   "execution_count": 50,
   "metadata": {
    "scrolled": false
   },
   "outputs": [
    {
     "name": "stdout",
     "output_type": "stream",
     "text": [
      "Carlos\n",
      "Mota\n",
      "Carlos Mota\n"
     ]
    }
   ],
   "source": [
    "print(pessoa.nome)\n",
    "print(pessoa.sobrenome)\n",
    "print(pessoa)"
   ]
  },
  {
   "cell_type": "code",
   "execution_count": 52,
   "metadata": {},
   "outputs": [
    {
     "name": "stdout",
     "output_type": "stream",
     "text": [
      "Paulo Santos\n"
     ]
    }
   ],
   "source": [
    "pessoa.nome = \"Paulo\"\n",
    "pessoa.sobrenome = \"Santos\"\n",
    "print(pessoa)"
   ]
  },
  {
   "cell_type": "markdown",
   "metadata": {},
   "source": [
    "### métodos do objeto"
   ]
  },
  {
   "cell_type": "code",
   "execution_count": 56,
   "metadata": {
    "scrolled": true
   },
   "outputs": [
    {
     "name": "stdout",
     "output_type": "stream",
     "text": [
      "Paulo Santos\n",
      "37\n",
      "Thu Sep  3 16:34:55 2020\n"
     ]
    }
   ],
   "source": [
    "print(pessoa.obter_nome_completo())\n",
    "print(pessoa.get_idade())\n",
    "print(pessoa.get_data_admissao('%c'))"
   ]
  },
  {
   "cell_type": "markdown",
   "metadata": {},
   "source": [
    "# Herança de classes"
   ]
  },
  {
   "cell_type": "code",
   "execution_count": 57,
   "metadata": {},
   "outputs": [],
   "source": [
    "class Pesquisador(Pessoa):\n",
    "    cargo = 'Pesquisador em Geociências'\n",
    "    \n",
    "class Analista(Pessoa):\n",
    "    cargo = 'Analista em Geociências'"
   ]
  },
  {
   "cell_type": "code",
   "execution_count": 58,
   "metadata": {},
   "outputs": [
    {
     "data": {
      "text/plain": [
       "<__main__.Analista at 0x7f2f9ef8bc90>"
      ]
     },
     "execution_count": 58,
     "metadata": {},
     "output_type": "execute_result"
    }
   ],
   "source": [
    "analista = Analista(\"José\", \"Silva\", datetime(1990, 1, 12))\n",
    "analista"
   ]
  },
  {
   "cell_type": "code",
   "execution_count": 59,
   "metadata": {},
   "outputs": [
    {
     "data": {
      "text/plain": [
       "'José Silva'"
      ]
     },
     "execution_count": 59,
     "metadata": {},
     "output_type": "execute_result"
    }
   ],
   "source": [
    "analista.obter_nome_completo()"
   ]
  },
  {
   "cell_type": "code",
   "execution_count": 60,
   "metadata": {
    "scrolled": true
   },
   "outputs": [
    {
     "ename": "AttributeError",
     "evalue": "'Pessoa' object has no attribute 'cargo'",
     "output_type": "error",
     "traceback": [
      "\u001b[0;31m---------------------------------------------------------------------------\u001b[0m",
      "\u001b[0;31mAttributeError\u001b[0m                            Traceback (most recent call last)",
      "\u001b[0;32m<ipython-input-60-339495604f55>\u001b[0m in \u001b[0;36m<module>\u001b[0;34m\u001b[0m\n\u001b[0;32m----> 1\u001b[0;31m \u001b[0mprint\u001b[0m\u001b[0;34m(\u001b[0m\u001b[0mpessoa\u001b[0m\u001b[0;34m.\u001b[0m\u001b[0mcargo\u001b[0m\u001b[0;34m)\u001b[0m\u001b[0;34m\u001b[0m\u001b[0;34m\u001b[0m\u001b[0m\n\u001b[0m",
      "\u001b[0;31mAttributeError\u001b[0m: 'Pessoa' object has no attribute 'cargo'"
     ]
    }
   ],
   "source": [
    "print(pessoa.cargo)"
   ]
  },
  {
   "cell_type": "code",
   "execution_count": 61,
   "metadata": {
    "scrolled": true
   },
   "outputs": [
    {
     "name": "stdout",
     "output_type": "stream",
     "text": [
      "Analista em Geociências\n"
     ]
    }
   ],
   "source": [
    "print(analista.cargo)"
   ]
  },
  {
   "cell_type": "code",
   "execution_count": null,
   "metadata": {},
   "outputs": [],
   "source": [
    "MapLayer   -> VectorLayer\n",
    "           -> RasterLayer"
   ]
  },
  {
   "cell_type": "markdown",
   "metadata": {},
   "source": [
    "# Polimorfismo"
   ]
  },
  {
   "cell_type": "code",
   "execution_count": 72,
   "metadata": {},
   "outputs": [],
   "source": [
    "# Override\n",
    "\n",
    "class Temporario(Pessoa):\n",
    "    # Polimorfismo com reeescrita do método\n",
    "    def __str__(self):\n",
    "        #return \"[Temporário] \" + self.obter_nome_completo()\n",
    "        \n",
    "        return \"[Temporário] \" + super().__str__()\n",
    "    \n",
    "    # \n",
    "    def get_data_admissao(self):\n",
    "        data_admissao = super().get_data_admissao(\"%c\")\n",
    "        \n",
    "        return f\"[Temporário] {data_admissao}\"  # Python3"
   ]
  },
  {
   "cell_type": "code",
   "execution_count": null,
   "metadata": {},
   "outputs": [],
   "source": [
    "est = Estagiario(\"Pedro\", \"Mota\", datetime(1995, 12, 14))\n",
    "est.data_admissao = datetime(2018, 10, 10)\n",
    "print(est.get_data_admissao())"
   ]
  },
  {
   "cell_type": "code",
   "execution_count": 73,
   "metadata": {},
   "outputs": [
    {
     "data": {
      "text/plain": [
       "'[Temporário] Thu Sep  3 17:15:43 2020'"
      ]
     },
     "execution_count": 73,
     "metadata": {},
     "output_type": "execute_result"
    }
   ],
   "source": [
    "tmp = Temporario(\"José\", \"Oliveira\", datetime(1997, 7, 22))\n",
    "str(tmp.get_data_admissao())\n",
    "\n",
    "\n",
    "#tmp.data_admissao = datetime(2019, 7, 1)\n",
    "#print(tmp.get_data_admissao())"
   ]
  },
  {
   "cell_type": "markdown",
   "metadata": {},
   "source": [
    "### É possível modificar até a função __init__ da classe"
   ]
  },
  {
   "cell_type": "code",
   "execution_count": 76,
   "metadata": {},
   "outputs": [],
   "source": [
    "class Terceirizado(Pessoa):     \n",
    "    def __init__(self, nome, sobrenome, data_nascimento, empresa):\n",
    "        super().__init__(nome, sobrenome, data_nascimento)\n",
    "        \n",
    "        self.empresa = empresa\n",
    "        \n",
    "    def __str__(self):\n",
    "        return self.obter_nome_completo() + \"; Empresa: \" + self.empresa"
   ]
  },
  {
   "cell_type": "code",
   "execution_count": 77,
   "metadata": {},
   "outputs": [
    {
     "name": "stdout",
     "output_type": "stream",
     "text": [
      "Antonio Silva; Empresa: SYZ Ltda\n"
     ]
    }
   ],
   "source": [
    "terc = Terceirizado(\"Antonio\", \"Silva\", datetime(1985, 2, 14), \"SYZ Ltda\")\n",
    "print(terc)"
   ]
  }
 ],
 "metadata": {
  "kernelspec": {
   "display_name": "Python 3",
   "language": "python",
   "name": "python3"
  },
  "language_info": {
   "codemirror_mode": {
    "name": "ipython",
    "version": 3
   },
   "file_extension": ".py",
   "mimetype": "text/x-python",
   "name": "python",
   "nbconvert_exporter": "python",
   "pygments_lexer": "ipython3",
   "version": "3.7.7"
  }
 },
 "nbformat": 4,
 "nbformat_minor": 4
}
