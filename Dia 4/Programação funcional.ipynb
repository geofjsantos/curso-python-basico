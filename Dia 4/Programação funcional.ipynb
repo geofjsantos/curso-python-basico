{
 "cells": [
  {
   "cell_type": "markdown",
   "metadata": {},
   "source": [
    "# Programação Funcional\n",
    "\n",
    "O paradigma funcional é um paradigma que trata a computação como uma sequência de funções e não como uma sequência de acções que mudam o estado do programa. \n",
    "\n",
    "Neste paradigma não há dados mutáveis, tudo é constante: se x é definido como sendo 3, x nunca vai poder ser 4, 5 ou 6. As variáveis são apenas nomes para valores (vulgo dados), e não uma caixa para o que lá quisermos colocar dentro, seja uma bola azul ou amarela. \n",
    "\n",
    "Esta abordagem é o que diferencia o paradigma funcional do imperativo: no paradigma funcional “transformam-se” valores, aplicam-se em novas situações, no paradigma imperativo alteram-se estados (o conteúdo das variáveis por exemplo)."
   ]
  },
  {
   "cell_type": "markdown",
   "metadata": {},
   "source": [
    "## Funções anônimas (Funções Lambda)\n",
    "\n",
    "No Python, à semelhança de outras linguagens, existem funções anónimas. A vantagem das funções anónimas sobre as funções normais (as definidas com o def statement) em Python (e em todas as outras linguagens que suportam funções anónimas) é a possibilidade de definir rotinas sem as prender a um nome, são rotinas que não têm identidade, são abstractas, e podem ser usadas em qualquer lado.\n",
    "\n",
    "Sintaxe: lambda <argumentos separados por vírgulas> : <o que a função deve retornar>"
   ]
  },
  {
   "cell_type": "code",
   "execution_count": null,
   "metadata": {},
   "outputs": [],
   "source": [
    "def quadrado(valor):\n",
    "    return valor ** 2\n",
    "\n",
    "square = lambda val: val **2"
   ]
  },
  {
   "cell_type": "markdown",
   "metadata": {},
   "source": [
    "## Map\n",
    "\n",
    "O map() é uma função que recebe um ou mais objectos iteráveis, e itera os objectos aplicando-lhe uma função definida pelo programador, retornando uma lista com os elementos modificados."
   ]
  },
  {
   "cell_type": "code",
   "execution_count": null,
   "metadata": {},
   "outputs": [],
   "source": [
    "lista1 = [1, 2, 3, 4]\n",
    "\n",
    "\n",
    "map(quadrado, lista1) # Python2\n",
    "list(map(quadrado, lista1)) # Python3"
   ]
  },
  {
   "cell_type": "markdown",
   "metadata": {},
   "source": [
    "## Filter\n",
    "\n",
    "A função filter retorna uma seqüência cujos valores são os elementos da seqüência de entrada que respeitam o seguinte critério: O retorno da função de teste de condição booleana é True"
   ]
  },
  {
   "cell_type": "code",
   "execution_count": null,
   "metadata": {},
   "outputs": [],
   "source": [
    "# Definir se o valor é par\n",
    "is_odd = lambda val: val % 2 == 0\n",
    "\n",
    "filter(is_odd, lista1) # Python2\n",
    "list(filter(is_odd, lista1)) # Python3"
   ]
  },
  {
   "cell_type": "markdown",
   "metadata": {},
   "source": [
    "## Reduce\n",
    "\n",
    "A função reduce() aplica acumuladamente os ítens de uma seqüência de entrada (da esquerda para a direita) a uma função de dois parâmetros até reduzir esse cálculo a um único valor de resposta. Opcionalmente pode-se atribuir um valor inicial como parâmetro.\n",
    "\n",
    "\n",
    "A função aceita para o reduce é na seguinte forma: lambda x, y: retorno"
   ]
  },
  {
   "cell_type": "code",
   "execution_count": null,
   "metadata": {},
   "outputs": [],
   "source": [
    "# No python2, a função reduce é uma função interna\n",
    "from functools import reduce # Python3\n",
    "\n",
    "soma_total = lambda x, y: x + y\n",
    "\n",
    "reduce(soma_total, lista1)"
   ]
  },
  {
   "cell_type": "markdown",
   "metadata": {},
   "source": [
    "## Zip\n",
    "\n",
    "A função zip() retorna uma seqüência cujos elementos são tuplas resultantes de cada um dos elementos de uma ou mais seqüências de entrada seq1, seq2, ..., seqN. A seqüência resultante é sempre truncada ao tamanho da menor seqüência apresentada."
   ]
  },
  {
   "cell_type": "code",
   "execution_count": null,
   "metadata": {},
   "outputs": [],
   "source": [
    "lista1 = [\"a\", \"b\", \"c\"]\n",
    "lista2 = [\"d\", \"e\", \"f\"]\n",
    "\n",
    "\n",
    "tabela = list(zip(lista1, lista2))  # Python3\n",
    "\n",
    "# Lista de tuplas (criada por zip ou não) pode ser usada para criar um dicionário, a partir de função dict()\n",
    "dict(tabela)"
   ]
  }
 ],
 "metadata": {
  "kernelspec": {
   "display_name": "Python 3",
   "language": "python",
   "name": "python3"
  },
  "language_info": {
   "codemirror_mode": {
    "name": "ipython",
    "version": 3
   },
   "file_extension": ".py",
   "mimetype": "text/x-python",
   "name": "python",
   "nbconvert_exporter": "python",
   "pygments_lexer": "ipython3",
   "version": "3.7.7"
  }
 },
 "nbformat": 4,
 "nbformat_minor": 4
}
