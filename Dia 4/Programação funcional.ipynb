{
 "cells": [
  {
   "cell_type": "markdown",
   "metadata": {},
   "source": [
    "# Programação Funcional\n",
    "\n",
    "O paradigma funcional é um paradigma que trata a computação como uma sequência de funções e não como uma sequência de ações que mudam o estado do programa. \n",
    "\n",
    "Neste paradigma não há dados mutáveis, tudo é constante: se x é definido como sendo 3, x nunca vai poder ser 4, 5 ou 6. As variáveis são apenas nomes para valores (vulgo dados), e não uma caixa para o que lá quisermos colocar dentro, seja uma bola azul ou amarela. \n",
    "\n",
    "Esta abordagem é o que diferencia o paradigma funcional do imperativo: no paradigma funcional “transformam-se” valores, aplicam-se em novas situações, no paradigma imperativo alteram-se estados (o conteúdo das variáveis por exemplo)."
   ]
  },
  {
   "cell_type": "markdown",
   "metadata": {},
   "source": [
    "## Funções anônimas (Funções Lambda)\n",
    "\n",
    "No Python, à semelhança de outras linguagens, existem funções anónimas. A vantagem das funções anónimas sobre as funções normais (as definidas com o def statement) em Python (e em todas as outras linguagens que suportam funções anónimas) é a possibilidade de definir rotinas sem as prender a um nome, são rotinas que não têm identidade, são abstractas, e podem ser usadas em qualquer lado.\n",
    "\n",
    "Sintaxe: lambda <argumentos separados por vírgulas> : <o que a função deve retornar>"
   ]
  },
  {
   "cell_type": "code",
   "execution_count": 1,
   "metadata": {},
   "outputs": [],
   "source": [
    "# Função \"clássica\"\n",
    "def quadrado(valor):\n",
    "    return valor ** 2\n",
    "\n",
    "# Função anônima / Função lambda\n",
    "square = lambda val: val ** 2"
   ]
  },
  {
   "cell_type": "code",
   "execution_count": 6,
   "metadata": {},
   "outputs": [
    {
     "data": {
      "text/plain": [
       "16"
      ]
     },
     "execution_count": 6,
     "metadata": {},
     "output_type": "execute_result"
    }
   ],
   "source": [
    "# Chamada da função\n",
    "quadrado(4)\n",
    "\n",
    "square(4)"
   ]
  },
  {
   "cell_type": "markdown",
   "metadata": {},
   "source": [
    "## Map\n",
    "\n",
    "O map() é uma função que recebe um ou mais objectos iteráveis, e itera os objectos aplicando-lhe uma função definida pelo programador, retornando uma lista com os elementos modificados."
   ]
  },
  {
   "cell_type": "code",
   "execution_count": 9,
   "metadata": {},
   "outputs": [
    {
     "data": {
      "text/plain": [
       "[1, 8, 27, 64]"
      ]
     },
     "execution_count": 9,
     "metadata": {},
     "output_type": "execute_result"
    }
   ],
   "source": [
    "lista1 = [1, 2, 3, 4]\n",
    "\n",
    "\n",
    "# map(quadrado, lista1) # Python2\n",
    "list(map(lambda val: val ** 3, lista1)) # Python3"
   ]
  },
  {
   "cell_type": "code",
   "execution_count": 13,
   "metadata": {},
   "outputs": [
    {
     "data": {
      "text/plain": [
       "[1, 2, 9, 1024]"
      ]
     },
     "execution_count": 13,
     "metadata": {},
     "output_type": "execute_result"
    }
   ],
   "source": [
    "lista2 = [3, 1, 2, 5]\n",
    "\n",
    "\n",
    "list(map(lambda val1, val2: val1 ** val2, lista1, lista2)) # Python3"
   ]
  },
  {
   "cell_type": "markdown",
   "metadata": {},
   "source": [
    "## Filter\n",
    "\n",
    "A função filter retorna uma seqüência cujos valores são os elementos da seqüência de entrada que respeitam o seguinte critério: O retorno da função de teste de condição booleana é True"
   ]
  },
  {
   "cell_type": "code",
   "execution_count": 17,
   "metadata": {},
   "outputs": [
    {
     "data": {
      "text/plain": [
       "[2, 4]"
      ]
     },
     "execution_count": 17,
     "metadata": {},
     "output_type": "execute_result"
    }
   ],
   "source": [
    "# lista1 = [1, 2, 3, 4]\n",
    "\n",
    "# Definir se o valor é par\n",
    "is_odd = lambda val: val % 2 == 0\n",
    "\n",
    "# filter(is_odd, lista1) # Python2\n",
    "list(filter(is_odd, lista1)) # Python3"
   ]
  },
  {
   "cell_type": "markdown",
   "metadata": {},
   "source": [
    "## Reduce\n",
    "\n",
    "A função reduce() aplica acumuladamente os ítens de uma seqüência de entrada (da esquerda para a direita) a uma função de dois argumentos até reduzir esse cálculo a um único valor de resposta. Opcionalmente pode-se atribuir um valor inicial como parâmetro.\n",
    "\n",
    "\n",
    "A função aceita para o reduce é na seguinte forma: lambda x, y: retorno"
   ]
  },
  {
   "cell_type": "code",
   "execution_count": 18,
   "metadata": {},
   "outputs": [
    {
     "data": {
      "text/plain": [
       "10"
      ]
     },
     "execution_count": 18,
     "metadata": {},
     "output_type": "execute_result"
    }
   ],
   "source": [
    "# No python2, a função reduce é uma função interna\n",
    "\n",
    "# lista1 = [1, 2, 3, 4]\n",
    "\n",
    "from functools import reduce # Python3\n",
    "\n",
    "soma_total = lambda x, y: x + y\n",
    "\n",
    "reduce(soma_total, lista1)"
   ]
  },
  {
   "cell_type": "markdown",
   "metadata": {},
   "source": [
    "## Zip\n",
    "\n",
    "A função zip() retorna uma seqüência cujos elementos são tuplas resultantes de cada um dos elementos de uma ou mais seqüências de entrada seq1, seq2, ..., seqN. A seqüência resultante é sempre truncada ao tamanho da menor seqüência apresentada."
   ]
  },
  {
   "cell_type": "code",
   "execution_count": 28,
   "metadata": {},
   "outputs": [
    {
     "name": "stdout",
     "output_type": "stream",
     "text": [
      "[('a', 'd'), ('b', 'e'), ('c', 'f')]\n"
     ]
    },
    {
     "data": {
      "text/plain": [
       "{'a': 'd', 'b': 'e', 'c': 'f'}"
      ]
     },
     "execution_count": 28,
     "metadata": {},
     "output_type": "execute_result"
    }
   ],
   "source": [
    "lista1 = [\"a\", \"b\", \"c\"]\n",
    "lista2 = [\"d\", \"e\", \"f\"]\n",
    "lista3 = [\"g\", \"h\", \"i\"]\n",
    "\n",
    "\n",
    "tabela = list(zip(lista1, lista2))  # Python3\n",
    "print(tabela)\n",
    "# Lista de tuplas (criada por zip ou não) pode ser usada para criar um dicionário, a partir de função dict()\n",
    "\n",
    "dict(tabela)"
   ]
  },
  {
   "cell_type": "markdown",
   "metadata": {},
   "source": [
    "## A menor função de fatorial que vocês puderem fazer"
   ]
  },
  {
   "cell_type": "code",
   "execution_count": 35,
   "metadata": {},
   "outputs": [
    {
     "data": {
      "text/plain": [
       "120"
      ]
     },
     "execution_count": 35,
     "metadata": {},
     "output_type": "execute_result"
    }
   ],
   "source": [
    "def fatorial (num):\n",
    "    fat = 1\n",
    "    x = 1\n",
    "    while x <= num:\n",
    "        fat *= x    # fat = fat * x\n",
    "        x += 1      # fat = fat + x\n",
    "    return fat\n",
    "\n",
    "\n",
    "fatorial(5)"
   ]
  },
  {
   "cell_type": "code",
   "execution_count": 32,
   "metadata": {},
   "outputs": [
    {
     "data": {
      "text/plain": [
       "[2, 3, 4, 5]"
      ]
     },
     "execution_count": 32,
     "metadata": {},
     "output_type": "execute_result"
    }
   ],
   "source": [
    "list(range(2, 1 + 5))"
   ]
  },
  {
   "cell_type": "code",
   "execution_count": 38,
   "metadata": {},
   "outputs": [
    {
     "data": {
      "text/plain": [
       "120"
      ]
     },
     "execution_count": 38,
     "metadata": {},
     "output_type": "execute_result"
    }
   ],
   "source": [
    "from functools import reduce\n",
    "\n",
    "def fatorial2(num):\n",
    "    return reduce(lambda x, y: x * y, range(1, 1 + num))\n",
    "\n",
    "fatorial2(5)"
   ]
  }
 ],
 "metadata": {
  "kernelspec": {
   "display_name": "Python 3",
   "language": "python",
   "name": "python3"
  },
  "language_info": {
   "codemirror_mode": {
    "name": "ipython",
    "version": 3
   },
   "file_extension": ".py",
   "mimetype": "text/x-python",
   "name": "python",
   "nbconvert_exporter": "python",
   "pygments_lexer": "ipython3",
   "version": "3.7.7"
  }
 },
 "nbformat": 4,
 "nbformat_minor": 4
}
